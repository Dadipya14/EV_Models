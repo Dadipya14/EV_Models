{
 "cells": [
  {
   "cell_type": "code",
   "execution_count": 119,
   "id": "1801039b",
   "metadata": {},
   "outputs": [
    {
     "name": "stdout",
     "output_type": "stream",
     "text": [
      "Defaulting to user installation because normal site-packages is not writeable\n",
      "Requirement already satisfied: plotly==5.8.0 in c:\\users\\daidipya sisodiya\\appdata\\roaming\\python\\python310\\site-packages (5.8.0)\n",
      "Requirement already satisfied: tenacity>=6.2.0 in c:\\programdata\\anaconda3\\lib\\site-packages (from plotly==5.8.0) (8.0.1)\n",
      "Note: you may need to restart the kernel to use updated packages.\n",
      "Defaulting to user installation because normal site-packages is not writeable\n",
      "Requirement already satisfied: kaleido in c:\\users\\daidipya sisodiya\\appdata\\roaming\\python\\python310\\site-packages (0.2.1)\n",
      "Note: you may need to restart the kernel to use updated packages.\n"
     ]
    }
   ],
   "source": [
    "import numpy as np \n",
    "%pip install plotly==5.8.0\n",
    "import pandas as pd\n",
    "import matplotlib.pyplot as plt\n",
    "%matplotlib inline\n",
    "from tqdm import tqdm\n",
    "import seaborn as sb\n",
    "import statsmodels.api as sm\n",
    "import plotly.express as px\n",
    "\n",
    "%pip install kaleido\n",
    "import kaleido\n",
    "\n",
    "from sklearn.model_selection import cross_validate,train_test_split\n",
    "from sklearn.linear_model import LinearRegression,LogisticRegression\n",
    "pd.set_option(\"display.precision\",3)\n",
    "np.set_printoptions(precision=5, suppress=True)\n",
    "pd.options.display.float_format = '{:.4f}'.format\n",
    "import plotly.io as pio\n",
    "pio.renderers.default = \"svg\"\n"
   ]
  },
  {
   "cell_type": "code",
   "execution_count": 120,
   "id": "0896fd62",
   "metadata": {},
   "outputs": [],
   "source": [
    "dt = pd.read_csv('ElectricCar.csv')"
   ]
  },
  {
   "cell_type": "code",
   "execution_count": 121,
   "id": "c48dfcd3",
   "metadata": {},
   "outputs": [
    {
     "data": {
      "text/html": [
       "<div>\n",
       "<style scoped>\n",
       "    .dataframe tbody tr th:only-of-type {\n",
       "        vertical-align: middle;\n",
       "    }\n",
       "\n",
       "    .dataframe tbody tr th {\n",
       "        vertical-align: top;\n",
       "    }\n",
       "\n",
       "    .dataframe thead th {\n",
       "        text-align: right;\n",
       "    }\n",
       "</style>\n",
       "<table border=\"1\" class=\"dataframe\">\n",
       "  <thead>\n",
       "    <tr style=\"text-align: right;\">\n",
       "      <th></th>\n",
       "      <th>Brand</th>\n",
       "      <th>Model</th>\n",
       "      <th>AccelSec</th>\n",
       "      <th>TopSpeed_KmH</th>\n",
       "      <th>Range_Km</th>\n",
       "      <th>Battery_Pack Kwh</th>\n",
       "      <th>Efficiency_WhKm</th>\n",
       "      <th>FastCharge_KmH</th>\n",
       "      <th>RapidCharge</th>\n",
       "      <th>PowerTrain</th>\n",
       "      <th>PlugType</th>\n",
       "      <th>BodyStyle</th>\n",
       "      <th>Segment</th>\n",
       "      <th>Seats</th>\n",
       "      <th>PriceEuro</th>\n",
       "    </tr>\n",
       "  </thead>\n",
       "  <tbody>\n",
       "    <tr>\n",
       "      <th>0</th>\n",
       "      <td>Tesla</td>\n",
       "      <td>Model 3 Long Range Dual Motor</td>\n",
       "      <td>4.6000</td>\n",
       "      <td>233</td>\n",
       "      <td>460</td>\n",
       "      <td>70.0000</td>\n",
       "      <td>161</td>\n",
       "      <td>940</td>\n",
       "      <td>Yes</td>\n",
       "      <td>AWD</td>\n",
       "      <td>Type 2 CCS</td>\n",
       "      <td>Sedan</td>\n",
       "      <td>D</td>\n",
       "      <td>5</td>\n",
       "      <td>55480</td>\n",
       "    </tr>\n",
       "    <tr>\n",
       "      <th>1</th>\n",
       "      <td>Volkswagen</td>\n",
       "      <td>ID.3 Pure</td>\n",
       "      <td>10.0000</td>\n",
       "      <td>160</td>\n",
       "      <td>270</td>\n",
       "      <td>45.0000</td>\n",
       "      <td>167</td>\n",
       "      <td>250</td>\n",
       "      <td>Yes</td>\n",
       "      <td>RWD</td>\n",
       "      <td>Type 2 CCS</td>\n",
       "      <td>Hatchback</td>\n",
       "      <td>C</td>\n",
       "      <td>5</td>\n",
       "      <td>30000</td>\n",
       "    </tr>\n",
       "    <tr>\n",
       "      <th>2</th>\n",
       "      <td>Polestar</td>\n",
       "      <td>2</td>\n",
       "      <td>4.7000</td>\n",
       "      <td>210</td>\n",
       "      <td>400</td>\n",
       "      <td>75.0000</td>\n",
       "      <td>181</td>\n",
       "      <td>620</td>\n",
       "      <td>Yes</td>\n",
       "      <td>AWD</td>\n",
       "      <td>Type 2 CCS</td>\n",
       "      <td>Liftback</td>\n",
       "      <td>D</td>\n",
       "      <td>5</td>\n",
       "      <td>56440</td>\n",
       "    </tr>\n",
       "    <tr>\n",
       "      <th>3</th>\n",
       "      <td>BMW</td>\n",
       "      <td>iX3</td>\n",
       "      <td>6.8000</td>\n",
       "      <td>180</td>\n",
       "      <td>360</td>\n",
       "      <td>74.0000</td>\n",
       "      <td>206</td>\n",
       "      <td>560</td>\n",
       "      <td>Yes</td>\n",
       "      <td>RWD</td>\n",
       "      <td>Type 2 CCS</td>\n",
       "      <td>SUV</td>\n",
       "      <td>D</td>\n",
       "      <td>5</td>\n",
       "      <td>68040</td>\n",
       "    </tr>\n",
       "    <tr>\n",
       "      <th>4</th>\n",
       "      <td>Honda</td>\n",
       "      <td>e</td>\n",
       "      <td>9.5000</td>\n",
       "      <td>145</td>\n",
       "      <td>170</td>\n",
       "      <td>28.5000</td>\n",
       "      <td>168</td>\n",
       "      <td>190</td>\n",
       "      <td>Yes</td>\n",
       "      <td>RWD</td>\n",
       "      <td>Type 2 CCS</td>\n",
       "      <td>Hatchback</td>\n",
       "      <td>B</td>\n",
       "      <td>4</td>\n",
       "      <td>32997</td>\n",
       "    </tr>\n",
       "    <tr>\n",
       "      <th>...</th>\n",
       "      <td>...</td>\n",
       "      <td>...</td>\n",
       "      <td>...</td>\n",
       "      <td>...</td>\n",
       "      <td>...</td>\n",
       "      <td>...</td>\n",
       "      <td>...</td>\n",
       "      <td>...</td>\n",
       "      <td>...</td>\n",
       "      <td>...</td>\n",
       "      <td>...</td>\n",
       "      <td>...</td>\n",
       "      <td>...</td>\n",
       "      <td>...</td>\n",
       "      <td>...</td>\n",
       "    </tr>\n",
       "    <tr>\n",
       "      <th>97</th>\n",
       "      <td>Nissan</td>\n",
       "      <td>Ariya 63kWh</td>\n",
       "      <td>7.5000</td>\n",
       "      <td>160</td>\n",
       "      <td>330</td>\n",
       "      <td>63.0000</td>\n",
       "      <td>191</td>\n",
       "      <td>440</td>\n",
       "      <td>Yes</td>\n",
       "      <td>FWD</td>\n",
       "      <td>Type 2 CCS</td>\n",
       "      <td>Hatchback</td>\n",
       "      <td>C</td>\n",
       "      <td>5</td>\n",
       "      <td>45000</td>\n",
       "    </tr>\n",
       "    <tr>\n",
       "      <th>98</th>\n",
       "      <td>Audi</td>\n",
       "      <td>e-tron S Sportback 55 quattro</td>\n",
       "      <td>4.5000</td>\n",
       "      <td>210</td>\n",
       "      <td>335</td>\n",
       "      <td>86.5000</td>\n",
       "      <td>258</td>\n",
       "      <td>540</td>\n",
       "      <td>Yes</td>\n",
       "      <td>AWD</td>\n",
       "      <td>Type 2 CCS</td>\n",
       "      <td>SUV</td>\n",
       "      <td>E</td>\n",
       "      <td>5</td>\n",
       "      <td>96050</td>\n",
       "    </tr>\n",
       "    <tr>\n",
       "      <th>99</th>\n",
       "      <td>Nissan</td>\n",
       "      <td>Ariya e-4ORCE 63kWh</td>\n",
       "      <td>5.9000</td>\n",
       "      <td>200</td>\n",
       "      <td>325</td>\n",
       "      <td>63.0000</td>\n",
       "      <td>194</td>\n",
       "      <td>440</td>\n",
       "      <td>Yes</td>\n",
       "      <td>AWD</td>\n",
       "      <td>Type 2 CCS</td>\n",
       "      <td>Hatchback</td>\n",
       "      <td>C</td>\n",
       "      <td>5</td>\n",
       "      <td>50000</td>\n",
       "    </tr>\n",
       "    <tr>\n",
       "      <th>100</th>\n",
       "      <td>Nissan</td>\n",
       "      <td>Ariya e-4ORCE 87kWh Performance</td>\n",
       "      <td>5.1000</td>\n",
       "      <td>200</td>\n",
       "      <td>375</td>\n",
       "      <td>87.0000</td>\n",
       "      <td>232</td>\n",
       "      <td>450</td>\n",
       "      <td>Yes</td>\n",
       "      <td>AWD</td>\n",
       "      <td>Type 2 CCS</td>\n",
       "      <td>Hatchback</td>\n",
       "      <td>C</td>\n",
       "      <td>5</td>\n",
       "      <td>65000</td>\n",
       "    </tr>\n",
       "    <tr>\n",
       "      <th>101</th>\n",
       "      <td>Byton</td>\n",
       "      <td>M-Byte 95 kWh 2WD</td>\n",
       "      <td>7.5000</td>\n",
       "      <td>190</td>\n",
       "      <td>400</td>\n",
       "      <td>95.0000</td>\n",
       "      <td>238</td>\n",
       "      <td>480</td>\n",
       "      <td>Yes</td>\n",
       "      <td>AWD</td>\n",
       "      <td>Type 2 CCS</td>\n",
       "      <td>SUV</td>\n",
       "      <td>E</td>\n",
       "      <td>5</td>\n",
       "      <td>62000</td>\n",
       "    </tr>\n",
       "  </tbody>\n",
       "</table>\n",
       "<p>102 rows × 15 columns</p>\n",
       "</div>"
      ],
      "text/plain": [
       "          Brand                            Model  AccelSec  TopSpeed_KmH  \\\n",
       "0         Tesla    Model 3 Long Range Dual Motor    4.6000           233   \n",
       "1    Volkswagen                        ID.3 Pure   10.0000           160   \n",
       "2      Polestar                                2    4.7000           210   \n",
       "3           BMW                              iX3    6.8000           180   \n",
       "4         Honda                                e    9.5000           145   \n",
       "..          ...                              ...       ...           ...   \n",
       "97       Nissan                      Ariya 63kWh    7.5000           160   \n",
       "98         Audi    e-tron S Sportback 55 quattro    4.5000           210   \n",
       "99       Nissan              Ariya e-4ORCE 63kWh    5.9000           200   \n",
       "100      Nissan  Ariya e-4ORCE 87kWh Performance    5.1000           200   \n",
       "101       Byton                M-Byte 95 kWh 2WD    7.5000           190   \n",
       "\n",
       "     Range_Km  Battery_Pack Kwh  Efficiency_WhKm  FastCharge_KmH RapidCharge  \\\n",
       "0         460           70.0000              161             940         Yes   \n",
       "1         270           45.0000              167             250         Yes   \n",
       "2         400           75.0000              181             620         Yes   \n",
       "3         360           74.0000              206             560         Yes   \n",
       "4         170           28.5000              168             190         Yes   \n",
       "..        ...               ...              ...             ...         ...   \n",
       "97        330           63.0000              191             440         Yes   \n",
       "98        335           86.5000              258             540         Yes   \n",
       "99        325           63.0000              194             440         Yes   \n",
       "100       375           87.0000              232             450         Yes   \n",
       "101       400           95.0000              238             480         Yes   \n",
       "\n",
       "    PowerTrain    PlugType  BodyStyle Segment  Seats  PriceEuro  \n",
       "0          AWD  Type 2 CCS      Sedan       D      5      55480  \n",
       "1          RWD  Type 2 CCS  Hatchback       C      5      30000  \n",
       "2          AWD  Type 2 CCS   Liftback       D      5      56440  \n",
       "3          RWD  Type 2 CCS        SUV       D      5      68040  \n",
       "4          RWD  Type 2 CCS  Hatchback       B      4      32997  \n",
       "..         ...         ...        ...     ...    ...        ...  \n",
       "97         FWD  Type 2 CCS  Hatchback       C      5      45000  \n",
       "98         AWD  Type 2 CCS        SUV       E      5      96050  \n",
       "99         AWD  Type 2 CCS  Hatchback       C      5      50000  \n",
       "100        AWD  Type 2 CCS  Hatchback       C      5      65000  \n",
       "101        AWD  Type 2 CCS        SUV       E      5      62000  \n",
       "\n",
       "[102 rows x 15 columns]"
      ]
     },
     "execution_count": 121,
     "metadata": {},
     "output_type": "execute_result"
    }
   ],
   "source": [
    "dt"
   ]
  },
  {
   "cell_type": "code",
   "execution_count": 122,
   "id": "164047ca",
   "metadata": {},
   "outputs": [
    {
     "data": {
      "text/plain": [
       "Brand               0\n",
       "Model               0\n",
       "AccelSec            0\n",
       "TopSpeed_KmH        0\n",
       "Range_Km            0\n",
       "Battery_Pack Kwh    0\n",
       "Efficiency_WhKm     0\n",
       "FastCharge_KmH      0\n",
       "RapidCharge         0\n",
       "PowerTrain          0\n",
       "PlugType            0\n",
       "BodyStyle           0\n",
       "Segment             0\n",
       "Seats               0\n",
       "PriceEuro           0\n",
       "dtype: int64"
      ]
     },
     "execution_count": 122,
     "metadata": {},
     "output_type": "execute_result"
    }
   ],
   "source": [
    "dt.isnull().sum()"
   ]
  },
  {
   "cell_type": "code",
   "execution_count": 123,
   "id": "2ba6d34f",
   "metadata": {},
   "outputs": [
    {
     "data": {
      "text/plain": [
       "Index(['Brand', 'Model', 'AccelSec', 'TopSpeed_KmH', 'Range_Km',\n",
       "       'Battery_Pack Kwh', 'Efficiency_WhKm', 'FastCharge_KmH', 'RapidCharge',\n",
       "       'PowerTrain', 'PlugType', 'BodyStyle', 'Segment', 'Seats', 'PriceEuro'],\n",
       "      dtype='object')"
      ]
     },
     "execution_count": 123,
     "metadata": {},
     "output_type": "execute_result"
    }
   ],
   "source": [
    "dt.columns"
   ]
  },
  {
   "cell_type": "code",
   "execution_count": 124,
   "id": "0ee44ea4",
   "metadata": {},
   "outputs": [],
   "source": [
    "# converting euro to INR\n",
    "dt['inr(10e3)'] = dt['PriceEuro']*0.08320"
   ]
  },
  {
   "cell_type": "code",
   "execution_count": 125,
   "id": "1e677c02",
   "metadata": {},
   "outputs": [],
   "source": [
    "dt['RapidCharge'].replace(to_replace=['No','Yes'],value=[0, 1],inplace=True)"
   ]
  },
  {
   "cell_type": "code",
   "execution_count": 126,
   "id": "3e5d1c6c",
   "metadata": {},
   "outputs": [
    {
     "data": {
      "text/html": [
       "<div>\n",
       "<style scoped>\n",
       "    .dataframe tbody tr th:only-of-type {\n",
       "        vertical-align: middle;\n",
       "    }\n",
       "\n",
       "    .dataframe tbody tr th {\n",
       "        vertical-align: top;\n",
       "    }\n",
       "\n",
       "    .dataframe thead th {\n",
       "        text-align: right;\n",
       "    }\n",
       "</style>\n",
       "<table border=\"1\" class=\"dataframe\">\n",
       "  <thead>\n",
       "    <tr style=\"text-align: right;\">\n",
       "      <th></th>\n",
       "      <th>Brand</th>\n",
       "      <th>Model</th>\n",
       "      <th>AccelSec</th>\n",
       "      <th>TopSpeed_KmH</th>\n",
       "      <th>Range_Km</th>\n",
       "      <th>Battery_Pack Kwh</th>\n",
       "      <th>Efficiency_WhKm</th>\n",
       "      <th>FastCharge_KmH</th>\n",
       "      <th>RapidCharge</th>\n",
       "      <th>PowerTrain</th>\n",
       "      <th>PlugType</th>\n",
       "      <th>BodyStyle</th>\n",
       "      <th>Segment</th>\n",
       "      <th>Seats</th>\n",
       "      <th>PriceEuro</th>\n",
       "      <th>inr(10e3)</th>\n",
       "    </tr>\n",
       "  </thead>\n",
       "  <tbody>\n",
       "    <tr>\n",
       "      <th>0</th>\n",
       "      <td>Tesla</td>\n",
       "      <td>Model 3 Long Range Dual Motor</td>\n",
       "      <td>4.6000</td>\n",
       "      <td>233</td>\n",
       "      <td>460</td>\n",
       "      <td>70.0000</td>\n",
       "      <td>161</td>\n",
       "      <td>940</td>\n",
       "      <td>1</td>\n",
       "      <td>AWD</td>\n",
       "      <td>Type 2 CCS</td>\n",
       "      <td>Sedan</td>\n",
       "      <td>D</td>\n",
       "      <td>5</td>\n",
       "      <td>55480</td>\n",
       "      <td>4615.9360</td>\n",
       "    </tr>\n",
       "    <tr>\n",
       "      <th>1</th>\n",
       "      <td>Volkswagen</td>\n",
       "      <td>ID.3 Pure</td>\n",
       "      <td>10.0000</td>\n",
       "      <td>160</td>\n",
       "      <td>270</td>\n",
       "      <td>45.0000</td>\n",
       "      <td>167</td>\n",
       "      <td>250</td>\n",
       "      <td>1</td>\n",
       "      <td>RWD</td>\n",
       "      <td>Type 2 CCS</td>\n",
       "      <td>Hatchback</td>\n",
       "      <td>C</td>\n",
       "      <td>5</td>\n",
       "      <td>30000</td>\n",
       "      <td>2496.0000</td>\n",
       "    </tr>\n",
       "    <tr>\n",
       "      <th>2</th>\n",
       "      <td>Polestar</td>\n",
       "      <td>2</td>\n",
       "      <td>4.7000</td>\n",
       "      <td>210</td>\n",
       "      <td>400</td>\n",
       "      <td>75.0000</td>\n",
       "      <td>181</td>\n",
       "      <td>620</td>\n",
       "      <td>1</td>\n",
       "      <td>AWD</td>\n",
       "      <td>Type 2 CCS</td>\n",
       "      <td>Liftback</td>\n",
       "      <td>D</td>\n",
       "      <td>5</td>\n",
       "      <td>56440</td>\n",
       "      <td>4695.8080</td>\n",
       "    </tr>\n",
       "    <tr>\n",
       "      <th>3</th>\n",
       "      <td>BMW</td>\n",
       "      <td>iX3</td>\n",
       "      <td>6.8000</td>\n",
       "      <td>180</td>\n",
       "      <td>360</td>\n",
       "      <td>74.0000</td>\n",
       "      <td>206</td>\n",
       "      <td>560</td>\n",
       "      <td>1</td>\n",
       "      <td>RWD</td>\n",
       "      <td>Type 2 CCS</td>\n",
       "      <td>SUV</td>\n",
       "      <td>D</td>\n",
       "      <td>5</td>\n",
       "      <td>68040</td>\n",
       "      <td>5660.9280</td>\n",
       "    </tr>\n",
       "    <tr>\n",
       "      <th>4</th>\n",
       "      <td>Honda</td>\n",
       "      <td>e</td>\n",
       "      <td>9.5000</td>\n",
       "      <td>145</td>\n",
       "      <td>170</td>\n",
       "      <td>28.5000</td>\n",
       "      <td>168</td>\n",
       "      <td>190</td>\n",
       "      <td>1</td>\n",
       "      <td>RWD</td>\n",
       "      <td>Type 2 CCS</td>\n",
       "      <td>Hatchback</td>\n",
       "      <td>B</td>\n",
       "      <td>4</td>\n",
       "      <td>32997</td>\n",
       "      <td>2745.3504</td>\n",
       "    </tr>\n",
       "  </tbody>\n",
       "</table>\n",
       "</div>"
      ],
      "text/plain": [
       "        Brand                          Model  AccelSec  TopSpeed_KmH  \\\n",
       "0       Tesla  Model 3 Long Range Dual Motor    4.6000           233   \n",
       "1  Volkswagen                      ID.3 Pure   10.0000           160   \n",
       "2    Polestar                              2    4.7000           210   \n",
       "3         BMW                            iX3    6.8000           180   \n",
       "4       Honda                              e    9.5000           145   \n",
       "\n",
       "   Range_Km  Battery_Pack Kwh  Efficiency_WhKm  FastCharge_KmH  RapidCharge  \\\n",
       "0       460           70.0000              161             940            1   \n",
       "1       270           45.0000              167             250            1   \n",
       "2       400           75.0000              181             620            1   \n",
       "3       360           74.0000              206             560            1   \n",
       "4       170           28.5000              168             190            1   \n",
       "\n",
       "  PowerTrain    PlugType  BodyStyle Segment  Seats  PriceEuro  inr(10e3)  \n",
       "0        AWD  Type 2 CCS      Sedan       D      5      55480  4615.9360  \n",
       "1        RWD  Type 2 CCS  Hatchback       C      5      30000  2496.0000  \n",
       "2        AWD  Type 2 CCS   Liftback       D      5      56440  4695.8080  \n",
       "3        RWD  Type 2 CCS        SUV       D      5      68040  5660.9280  \n",
       "4        RWD  Type 2 CCS  Hatchback       B      4      32997  2745.3504  "
      ]
     },
     "execution_count": 126,
     "metadata": {},
     "output_type": "execute_result"
    }
   ],
   "source": [
    "dt.head()"
   ]
  },
  {
   "cell_type": "code",
   "execution_count": 127,
   "id": "1dd04563",
   "metadata": {},
   "outputs": [
    {
     "name": "stdout",
     "output_type": "stream",
     "text": [
      "<class 'pandas.core.frame.DataFrame'>\n",
      "RangeIndex: 102 entries, 0 to 101\n",
      "Data columns (total 16 columns):\n",
      " #   Column            Non-Null Count  Dtype  \n",
      "---  ------            --------------  -----  \n",
      " 0   Brand             102 non-null    object \n",
      " 1   Model             102 non-null    object \n",
      " 2   AccelSec          102 non-null    float64\n",
      " 3   TopSpeed_KmH      102 non-null    int64  \n",
      " 4   Range_Km          102 non-null    int64  \n",
      " 5   Battery_Pack Kwh  102 non-null    float64\n",
      " 6   Efficiency_WhKm   102 non-null    int64  \n",
      " 7   FastCharge_KmH    102 non-null    int64  \n",
      " 8   RapidCharge       102 non-null    int64  \n",
      " 9   PowerTrain        102 non-null    object \n",
      " 10  PlugType          102 non-null    object \n",
      " 11  BodyStyle         102 non-null    object \n",
      " 12  Segment           102 non-null    object \n",
      " 13  Seats             102 non-null    int64  \n",
      " 14  PriceEuro         102 non-null    int64  \n",
      " 15  inr(10e3)         102 non-null    float64\n",
      "dtypes: float64(3), int64(7), object(6)\n",
      "memory usage: 12.9+ KB\n"
     ]
    }
   ],
   "source": [
    "dt.info()"
   ]
  },
  {
   "cell_type": "code",
   "execution_count": 128,
   "id": "7b6b8386",
   "metadata": {},
   "outputs": [
    {
     "data": {
      "text/html": [
       "<div>\n",
       "<style scoped>\n",
       "    .dataframe tbody tr th:only-of-type {\n",
       "        vertical-align: middle;\n",
       "    }\n",
       "\n",
       "    .dataframe tbody tr th {\n",
       "        vertical-align: top;\n",
       "    }\n",
       "\n",
       "    .dataframe thead th {\n",
       "        text-align: right;\n",
       "    }\n",
       "</style>\n",
       "<table border=\"1\" class=\"dataframe\">\n",
       "  <thead>\n",
       "    <tr style=\"text-align: right;\">\n",
       "      <th></th>\n",
       "      <th>AccelSec</th>\n",
       "      <th>TopSpeed_KmH</th>\n",
       "      <th>Range_Km</th>\n",
       "      <th>Battery_Pack Kwh</th>\n",
       "      <th>Efficiency_WhKm</th>\n",
       "      <th>FastCharge_KmH</th>\n",
       "      <th>RapidCharge</th>\n",
       "      <th>Seats</th>\n",
       "      <th>PriceEuro</th>\n",
       "      <th>inr(10e3)</th>\n",
       "    </tr>\n",
       "  </thead>\n",
       "  <tbody>\n",
       "    <tr>\n",
       "      <th>count</th>\n",
       "      <td>102.0000</td>\n",
       "      <td>102.0000</td>\n",
       "      <td>102.0000</td>\n",
       "      <td>102.0000</td>\n",
       "      <td>102.0000</td>\n",
       "      <td>102.0000</td>\n",
       "      <td>102.0000</td>\n",
       "      <td>102.0000</td>\n",
       "      <td>102.0000</td>\n",
       "      <td>102.0000</td>\n",
       "    </tr>\n",
       "    <tr>\n",
       "      <th>mean</th>\n",
       "      <td>7.3912</td>\n",
       "      <td>179.3137</td>\n",
       "      <td>338.6275</td>\n",
       "      <td>65.4157</td>\n",
       "      <td>189.3039</td>\n",
       "      <td>435.6863</td>\n",
       "      <td>0.9510</td>\n",
       "      <td>4.8824</td>\n",
       "      <td>55997.5882</td>\n",
       "      <td>4658.9993</td>\n",
       "    </tr>\n",
       "    <tr>\n",
       "      <th>std</th>\n",
       "      <td>3.0319</td>\n",
       "      <td>43.7712</td>\n",
       "      <td>126.7006</td>\n",
       "      <td>29.9558</td>\n",
       "      <td>29.6791</td>\n",
       "      <td>220.4474</td>\n",
       "      <td>0.2170</td>\n",
       "      <td>0.7997</td>\n",
       "      <td>34250.7244</td>\n",
       "      <td>2849.6603</td>\n",
       "    </tr>\n",
       "    <tr>\n",
       "      <th>min</th>\n",
       "      <td>2.1000</td>\n",
       "      <td>123.0000</td>\n",
       "      <td>95.0000</td>\n",
       "      <td>16.7000</td>\n",
       "      <td>104.0000</td>\n",
       "      <td>0.0000</td>\n",
       "      <td>0.0000</td>\n",
       "      <td>2.0000</td>\n",
       "      <td>20129.0000</td>\n",
       "      <td>1674.7328</td>\n",
       "    </tr>\n",
       "    <tr>\n",
       "      <th>25%</th>\n",
       "      <td>5.1000</td>\n",
       "      <td>150.0000</td>\n",
       "      <td>250.0000</td>\n",
       "      <td>43.1250</td>\n",
       "      <td>168.0000</td>\n",
       "      <td>260.0000</td>\n",
       "      <td>1.0000</td>\n",
       "      <td>5.0000</td>\n",
       "      <td>34414.7500</td>\n",
       "      <td>2863.3072</td>\n",
       "    </tr>\n",
       "    <tr>\n",
       "      <th>50%</th>\n",
       "      <td>7.3000</td>\n",
       "      <td>160.0000</td>\n",
       "      <td>340.0000</td>\n",
       "      <td>64.3500</td>\n",
       "      <td>180.5000</td>\n",
       "      <td>440.0000</td>\n",
       "      <td>1.0000</td>\n",
       "      <td>5.0000</td>\n",
       "      <td>45000.0000</td>\n",
       "      <td>3744.0000</td>\n",
       "    </tr>\n",
       "    <tr>\n",
       "      <th>75%</th>\n",
       "      <td>9.0000</td>\n",
       "      <td>200.0000</td>\n",
       "      <td>400.0000</td>\n",
       "      <td>83.7000</td>\n",
       "      <td>204.5000</td>\n",
       "      <td>557.5000</td>\n",
       "      <td>1.0000</td>\n",
       "      <td>5.0000</td>\n",
       "      <td>65000.0000</td>\n",
       "      <td>5408.0000</td>\n",
       "    </tr>\n",
       "    <tr>\n",
       "      <th>max</th>\n",
       "      <td>22.4000</td>\n",
       "      <td>410.0000</td>\n",
       "      <td>970.0000</td>\n",
       "      <td>200.0000</td>\n",
       "      <td>273.0000</td>\n",
       "      <td>940.0000</td>\n",
       "      <td>1.0000</td>\n",
       "      <td>7.0000</td>\n",
       "      <td>215000.0000</td>\n",
       "      <td>17888.0000</td>\n",
       "    </tr>\n",
       "  </tbody>\n",
       "</table>\n",
       "</div>"
      ],
      "text/plain": [
       "       AccelSec  TopSpeed_KmH  Range_Km  Battery_Pack Kwh  Efficiency_WhKm  \\\n",
       "count  102.0000      102.0000  102.0000          102.0000         102.0000   \n",
       "mean     7.3912      179.3137  338.6275           65.4157         189.3039   \n",
       "std      3.0319       43.7712  126.7006           29.9558          29.6791   \n",
       "min      2.1000      123.0000   95.0000           16.7000         104.0000   \n",
       "25%      5.1000      150.0000  250.0000           43.1250         168.0000   \n",
       "50%      7.3000      160.0000  340.0000           64.3500         180.5000   \n",
       "75%      9.0000      200.0000  400.0000           83.7000         204.5000   \n",
       "max     22.4000      410.0000  970.0000          200.0000         273.0000   \n",
       "\n",
       "       FastCharge_KmH  RapidCharge    Seats   PriceEuro  inr(10e3)  \n",
       "count        102.0000     102.0000 102.0000    102.0000   102.0000  \n",
       "mean         435.6863       0.9510   4.8824  55997.5882  4658.9993  \n",
       "std          220.4474       0.2170   0.7997  34250.7244  2849.6603  \n",
       "min            0.0000       0.0000   2.0000  20129.0000  1674.7328  \n",
       "25%          260.0000       1.0000   5.0000  34414.7500  2863.3072  \n",
       "50%          440.0000       1.0000   5.0000  45000.0000  3744.0000  \n",
       "75%          557.5000       1.0000   5.0000  65000.0000  5408.0000  \n",
       "max          940.0000       1.0000   7.0000 215000.0000 17888.0000  "
      ]
     },
     "execution_count": 128,
     "metadata": {},
     "output_type": "execute_result"
    }
   ],
   "source": [
    "dt.describe()"
   ]
  },
  {
   "cell_type": "code",
   "execution_count": 129,
   "id": "bda7fd9e",
   "metadata": {},
   "outputs": [
    {
     "data": {
      "text/plain": [
       "(102, 16)"
      ]
     },
     "execution_count": 129,
     "metadata": {},
     "output_type": "execute_result"
    }
   ],
   "source": [
    "dt.shape"
   ]
  },
  {
   "cell_type": "code",
   "execution_count": 130,
   "id": "2c533e54",
   "metadata": {},
   "outputs": [
    {
     "data": {
      "text/plain": [
       "0"
      ]
     },
     "execution_count": 130,
     "metadata": {},
     "output_type": "execute_result"
    }
   ],
   "source": [
    "dt.duplicated().sum()"
   ]
  },
  {
   "cell_type": "code",
   "execution_count": 134,
   "id": "cf22d728",
   "metadata": {},
   "outputs": [],
   "source": [
    "dt['RapidCharge'].replace(to_replace = ['No' , 'Yes'] , value = [0 , 1] , inplace = True)"
   ]
  },
  {
   "cell_type": "code",
   "execution_count": 135,
   "id": "13cba394",
   "metadata": {},
   "outputs": [],
   "source": [
    "dt_sortedPrice = dt.sort_values('inr(10e3)')"
   ]
  },
  {
   "cell_type": "code",
   "execution_count": null,
   "id": "9a78def8",
   "metadata": {},
   "outputs": [],
   "source": [
    "# Brand with low price\n",
    "\n",
    "fig = px.bar(dt_sortedPrice , x = 'Brand' , y = 'inr(10e3)' , color = 'Brand' , title = 'Car Price Low to High')\n",
    "fig.show()\n",
    "     "
   ]
  },
  {
   "cell_type": "code",
   "execution_count": 34,
   "id": "f133c7c6",
   "metadata": {},
   "outputs": [
    {
     "data": {
      "application/vnd.plotly.v1+json": {
       "config": {
        "plotlyServerURL": "https://plot.ly"
       },
       "data": [
        {
         "alignmentgroup": "True",
         "hovertemplate": "Brand=%{x}<br>TopSpeed_KmH=%{y}<extra></extra>",
         "legendgroup": "Tesla",
         "marker": {
          "color": "#636efa",
          "pattern": {
           "shape": ""
          }
         },
         "name": "Tesla",
         "offsetgroup": "Tesla",
         "orientation": "v",
         "showlegend": true,
         "textposition": "auto",
         "type": "bar",
         "x": [
          "Tesla",
          "Tesla",
          "Tesla",
          "Tesla",
          "Tesla",
          "Tesla",
          "Tesla",
          "Tesla",
          "Tesla",
          "Tesla",
          "Tesla",
          "Tesla",
          "Tesla"
         ],
         "xaxis": "x",
         "y": [
          233,
          225,
          217,
          261,
          210,
          250,
          410,
          250,
          261,
          241,
          190,
          250,
          180
         ],
         "yaxis": "y"
        },
        {
         "alignmentgroup": "True",
         "hovertemplate": "Brand=%{x}<br>TopSpeed_KmH=%{y}<extra></extra>",
         "legendgroup": "Volkswagen",
         "marker": {
          "color": "#EF553B",
          "pattern": {
           "shape": ""
          }
         },
         "name": "Volkswagen",
         "offsetgroup": "Volkswagen",
         "orientation": "v",
         "showlegend": true,
         "textposition": "auto",
         "type": "bar",
         "x": [
          "Volkswagen",
          "Volkswagen",
          "Volkswagen",
          "Volkswagen",
          "Volkswagen",
          "Volkswagen",
          "Volkswagen",
          "Volkswagen"
         ],
         "xaxis": "x",
         "y": [
          160,
          150,
          160,
          130,
          160,
          160,
          160,
          160
         ],
         "yaxis": "y"
        },
        {
         "alignmentgroup": "True",
         "hovertemplate": "Brand=%{x}<br>TopSpeed_KmH=%{y}<extra></extra>",
         "legendgroup": "Polestar",
         "marker": {
          "color": "#00cc96",
          "pattern": {
           "shape": ""
          }
         },
         "name": "Polestar",
         "offsetgroup": "Polestar",
         "orientation": "v",
         "showlegend": true,
         "textposition": "auto",
         "type": "bar",
         "x": [
          "Polestar"
         ],
         "xaxis": "x",
         "y": [
          210
         ],
         "yaxis": "y"
        },
        {
         "alignmentgroup": "True",
         "hovertemplate": "Brand=%{x}<br>TopSpeed_KmH=%{y}<extra></extra>",
         "legendgroup": "BMW",
         "marker": {
          "color": "#ab63fa",
          "pattern": {
           "shape": ""
          }
         },
         "name": "BMW",
         "offsetgroup": "BMW",
         "orientation": "v",
         "showlegend": true,
         "textposition": "auto",
         "type": "bar",
         "x": [
          "BMW",
          "BMW",
          "BMW",
          "BMW"
         ],
         "xaxis": "x",
         "y": [
          180,
          200,
          150,
          160
         ],
         "yaxis": "y"
        },
        {
         "alignmentgroup": "True",
         "hovertemplate": "Brand=%{x}<br>TopSpeed_KmH=%{y}<extra></extra>",
         "legendgroup": "Honda",
         "marker": {
          "color": "#FFA15A",
          "pattern": {
           "shape": ""
          }
         },
         "name": "Honda",
         "offsetgroup": "Honda",
         "orientation": "v",
         "showlegend": true,
         "textposition": "auto",
         "type": "bar",
         "x": [
          "Honda",
          "Honda"
         ],
         "xaxis": "x",
         "y": [
          145,
          145
         ],
         "yaxis": "y"
        },
        {
         "alignmentgroup": "True",
         "hovertemplate": "Brand=%{x}<br>TopSpeed_KmH=%{y}<extra></extra>",
         "legendgroup": "Lucid",
         "marker": {
          "color": "#19d3f3",
          "pattern": {
           "shape": ""
          }
         },
         "name": "Lucid",
         "offsetgroup": "Lucid",
         "orientation": "v",
         "showlegend": true,
         "textposition": "auto",
         "type": "bar",
         "x": [
          "Lucid"
         ],
         "xaxis": "x",
         "y": [
          250
         ],
         "yaxis": "y"
        },
        {
         "alignmentgroup": "True",
         "hovertemplate": "Brand=%{x}<br>TopSpeed_KmH=%{y}<extra></extra>",
         "legendgroup": "Peugeot",
         "marker": {
          "color": "#FF6692",
          "pattern": {
           "shape": ""
          }
         },
         "name": "Peugeot",
         "offsetgroup": "Peugeot",
         "orientation": "v",
         "showlegend": true,
         "textposition": "auto",
         "type": "bar",
         "x": [
          "Peugeot",
          "Peugeot"
         ],
         "xaxis": "x",
         "y": [
          150,
          150
         ],
         "yaxis": "y"
        },
        {
         "alignmentgroup": "True",
         "hovertemplate": "Brand=%{x}<br>TopSpeed_KmH=%{y}<extra></extra>",
         "legendgroup": "Audi",
         "marker": {
          "color": "#B6E880",
          "pattern": {
           "shape": ""
          }
         },
         "name": "Audi",
         "offsetgroup": "Audi",
         "orientation": "v",
         "showlegend": true,
         "textposition": "auto",
         "type": "bar",
         "x": [
          "Audi",
          "Audi",
          "Audi",
          "Audi",
          "Audi",
          "Audi",
          "Audi",
          "Audi",
          "Audi"
         ],
         "xaxis": "x",
         "y": [
          180,
          240,
          190,
          200,
          200,
          180,
          190,
          210,
          210
         ],
         "yaxis": "y"
        },
        {
         "alignmentgroup": "True",
         "hovertemplate": "Brand=%{x}<br>TopSpeed_KmH=%{y}<extra></extra>",
         "legendgroup": "Mercedes",
         "marker": {
          "color": "#FF97FF",
          "pattern": {
           "shape": ""
          }
         },
         "name": "Mercedes",
         "offsetgroup": "Mercedes",
         "orientation": "v",
         "showlegend": true,
         "textposition": "auto",
         "type": "bar",
         "x": [
          "Mercedes",
          "Mercedes",
          "Mercedes"
         ],
         "xaxis": "x",
         "y": [
          180,
          200,
          140
         ],
         "yaxis": "y"
        },
        {
         "alignmentgroup": "True",
         "hovertemplate": "Brand=%{x}<br>TopSpeed_KmH=%{y}<extra></extra>",
         "legendgroup": "Nissan",
         "marker": {
          "color": "#FECB52",
          "pattern": {
           "shape": ""
          }
         },
         "name": "Nissan",
         "offsetgroup": "Nissan",
         "orientation": "v",
         "showlegend": true,
         "textposition": "auto",
         "type": "bar",
         "x": [
          "Nissan",
          "Nissan",
          "Nissan",
          "Nissan",
          "Nissan",
          "Nissan",
          "Nissan",
          "Nissan"
         ],
         "xaxis": "x",
         "y": [
          144,
          157,
          160,
          123,
          200,
          160,
          200,
          200
         ],
         "yaxis": "y"
        },
        {
         "alignmentgroup": "True",
         "hovertemplate": "Brand=%{x}<br>TopSpeed_KmH=%{y}<extra></extra>",
         "legendgroup": "Hyundai",
         "marker": {
          "color": "#636efa",
          "pattern": {
           "shape": ""
          }
         },
         "name": "Hyundai",
         "offsetgroup": "Hyundai",
         "orientation": "v",
         "showlegend": true,
         "textposition": "auto",
         "type": "bar",
         "x": [
          "Hyundai",
          "Hyundai",
          "Hyundai"
         ],
         "xaxis": "x",
         "y": [
          167,
          165,
          155
         ],
         "yaxis": "y"
        },
        {
         "alignmentgroup": "True",
         "hovertemplate": "Brand=%{x}<br>TopSpeed_KmH=%{y}<extra></extra>",
         "legendgroup": "Porsche",
         "marker": {
          "color": "#EF553B",
          "pattern": {
           "shape": ""
          }
         },
         "name": "Porsche",
         "offsetgroup": "Porsche",
         "orientation": "v",
         "showlegend": true,
         "textposition": "auto",
         "type": "bar",
         "x": [
          "Porsche",
          "Porsche",
          "Porsche",
          "Porsche",
          "Porsche"
         ],
         "xaxis": "x",
         "y": [
          260,
          250,
          250,
          250,
          260
         ],
         "yaxis": "y"
        },
        {
         "alignmentgroup": "True",
         "hovertemplate": "Brand=%{x}<br>TopSpeed_KmH=%{y}<extra></extra>",
         "legendgroup": "MG",
         "marker": {
          "color": "#00cc96",
          "pattern": {
           "shape": ""
          }
         },
         "name": "MG",
         "offsetgroup": "MG",
         "orientation": "v",
         "showlegend": true,
         "textposition": "auto",
         "type": "bar",
         "x": [
          "MG"
         ],
         "xaxis": "x",
         "y": [
          140
         ],
         "yaxis": "y"
        },
        {
         "alignmentgroup": "True",
         "hovertemplate": "Brand=%{x}<br>TopSpeed_KmH=%{y}<extra></extra>",
         "legendgroup": "Mini",
         "marker": {
          "color": "#ab63fa",
          "pattern": {
           "shape": ""
          }
         },
         "name": "Mini",
         "offsetgroup": "Mini",
         "orientation": "v",
         "showlegend": true,
         "textposition": "auto",
         "type": "bar",
         "x": [
          "Mini"
         ],
         "xaxis": "x",
         "y": [
          150
         ],
         "yaxis": "y"
        },
        {
         "alignmentgroup": "True",
         "hovertemplate": "Brand=%{x}<br>TopSpeed_KmH=%{y}<extra></extra>",
         "legendgroup": "Opel",
         "marker": {
          "color": "#FFA15A",
          "pattern": {
           "shape": ""
          }
         },
         "name": "Opel",
         "offsetgroup": "Opel",
         "orientation": "v",
         "showlegend": true,
         "textposition": "auto",
         "type": "bar",
         "x": [
          "Opel",
          "Opel",
          "Opel"
         ],
         "xaxis": "x",
         "y": [
          150,
          150,
          150
         ],
         "yaxis": "y"
        },
        {
         "alignmentgroup": "True",
         "hovertemplate": "Brand=%{x}<br>TopSpeed_KmH=%{y}<extra></extra>",
         "legendgroup": "Skoda",
         "marker": {
          "color": "#19d3f3",
          "pattern": {
           "shape": ""
          }
         },
         "name": "Skoda",
         "offsetgroup": "Skoda",
         "orientation": "v",
         "showlegend": true,
         "textposition": "auto",
         "type": "bar",
         "x": [
          "Skoda",
          "Skoda",
          "Skoda",
          "Skoda",
          "Skoda",
          "Skoda"
         ],
         "xaxis": "x",
         "y": [
          160,
          130,
          160,
          160,
          180,
          160
         ],
         "yaxis": "y"
        },
        {
         "alignmentgroup": "True",
         "hovertemplate": "Brand=%{x}<br>TopSpeed_KmH=%{y}<extra></extra>",
         "legendgroup": "Volvo",
         "marker": {
          "color": "#FF6692",
          "pattern": {
           "shape": ""
          }
         },
         "name": "Volvo",
         "offsetgroup": "Volvo",
         "orientation": "v",
         "showlegend": true,
         "textposition": "auto",
         "type": "bar",
         "x": [
          "Volvo"
         ],
         "xaxis": "x",
         "y": [
          180
         ],
         "yaxis": "y"
        },
        {
         "alignmentgroup": "True",
         "hovertemplate": "Brand=%{x}<br>TopSpeed_KmH=%{y}<extra></extra>",
         "legendgroup": "Kia",
         "marker": {
          "color": "#B6E880",
          "pattern": {
           "shape": ""
          }
         },
         "name": "Kia",
         "offsetgroup": "Kia",
         "orientation": "v",
         "showlegend": true,
         "textposition": "auto",
         "type": "bar",
         "x": [
          "Kia",
          "Kia",
          "Kia",
          "Kia"
         ],
         "xaxis": "x",
         "y": [
          167,
          167,
          155,
          157
         ],
         "yaxis": "y"
        },
        {
         "alignmentgroup": "True",
         "hovertemplate": "Brand=%{x}<br>TopSpeed_KmH=%{y}<extra></extra>",
         "legendgroup": "Renault",
         "marker": {
          "color": "#FF97FF",
          "pattern": {
           "shape": ""
          }
         },
         "name": "Renault",
         "offsetgroup": "Renault",
         "orientation": "v",
         "showlegend": true,
         "textposition": "auto",
         "type": "bar",
         "x": [
          "Renault",
          "Renault",
          "Renault",
          "Renault",
          "Renault"
         ],
         "xaxis": "x",
         "y": [
          135,
          140,
          135,
          135,
          130
         ],
         "yaxis": "y"
        },
        {
         "alignmentgroup": "True",
         "hovertemplate": "Brand=%{x}<br>TopSpeed_KmH=%{y}<extra></extra>",
         "legendgroup": "Mazda",
         "marker": {
          "color": "#FECB52",
          "pattern": {
           "shape": ""
          }
         },
         "name": "Mazda",
         "offsetgroup": "Mazda",
         "orientation": "v",
         "showlegend": true,
         "textposition": "auto",
         "type": "bar",
         "x": [
          "Mazda"
         ],
         "xaxis": "x",
         "y": [
          150
         ],
         "yaxis": "y"
        },
        {
         "alignmentgroup": "True",
         "hovertemplate": "Brand=%{x}<br>TopSpeed_KmH=%{y}<extra></extra>",
         "legendgroup": "Lexus",
         "marker": {
          "color": "#636efa",
          "pattern": {
           "shape": ""
          }
         },
         "name": "Lexus",
         "offsetgroup": "Lexus",
         "orientation": "v",
         "showlegend": true,
         "textposition": "auto",
         "type": "bar",
         "x": [
          "Lexus"
         ],
         "xaxis": "x",
         "y": [
          160
         ],
         "yaxis": "y"
        },
        {
         "alignmentgroup": "True",
         "hovertemplate": "Brand=%{x}<br>TopSpeed_KmH=%{y}<extra></extra>",
         "legendgroup": "CUPRA",
         "marker": {
          "color": "#EF553B",
          "pattern": {
           "shape": ""
          }
         },
         "name": "CUPRA",
         "offsetgroup": "CUPRA",
         "orientation": "v",
         "showlegend": true,
         "textposition": "auto",
         "type": "bar",
         "x": [
          "CUPRA"
         ],
         "xaxis": "x",
         "y": [
          160
         ],
         "yaxis": "y"
        },
        {
         "alignmentgroup": "True",
         "hovertemplate": "Brand=%{x}<br>TopSpeed_KmH=%{y}<extra></extra>",
         "legendgroup": "SEAT",
         "marker": {
          "color": "#00cc96",
          "pattern": {
           "shape": ""
          }
         },
         "name": "SEAT",
         "offsetgroup": "SEAT",
         "orientation": "v",
         "showlegend": true,
         "textposition": "auto",
         "type": "bar",
         "x": [
          "SEAT"
         ],
         "xaxis": "x",
         "y": [
          130
         ],
         "yaxis": "y"
        },
        {
         "alignmentgroup": "True",
         "hovertemplate": "Brand=%{x}<br>TopSpeed_KmH=%{y}<extra></extra>",
         "legendgroup": "Lightyear",
         "marker": {
          "color": "#ab63fa",
          "pattern": {
           "shape": ""
          }
         },
         "name": "Lightyear",
         "offsetgroup": "Lightyear",
         "orientation": "v",
         "showlegend": true,
         "textposition": "auto",
         "type": "bar",
         "x": [
          "Lightyear"
         ],
         "xaxis": "x",
         "y": [
          150
         ],
         "yaxis": "y"
        },
        {
         "alignmentgroup": "True",
         "hovertemplate": "Brand=%{x}<br>TopSpeed_KmH=%{y}<extra></extra>",
         "legendgroup": "Aiways",
         "marker": {
          "color": "#FFA15A",
          "pattern": {
           "shape": ""
          }
         },
         "name": "Aiways",
         "offsetgroup": "Aiways",
         "orientation": "v",
         "showlegend": true,
         "textposition": "auto",
         "type": "bar",
         "x": [
          "Aiways"
         ],
         "xaxis": "x",
         "y": [
          150
         ],
         "yaxis": "y"
        },
        {
         "alignmentgroup": "True",
         "hovertemplate": "Brand=%{x}<br>TopSpeed_KmH=%{y}<extra></extra>",
         "legendgroup": "DS",
         "marker": {
          "color": "#19d3f3",
          "pattern": {
           "shape": ""
          }
         },
         "name": "DS",
         "offsetgroup": "DS",
         "orientation": "v",
         "showlegend": true,
         "textposition": "auto",
         "type": "bar",
         "x": [
          "DS"
         ],
         "xaxis": "x",
         "y": [
          150
         ],
         "yaxis": "y"
        },
        {
         "alignmentgroup": "True",
         "hovertemplate": "Brand=%{x}<br>TopSpeed_KmH=%{y}<extra></extra>",
         "legendgroup": "Citroen",
         "marker": {
          "color": "#FF6692",
          "pattern": {
           "shape": ""
          }
         },
         "name": "Citroen",
         "offsetgroup": "Citroen",
         "orientation": "v",
         "showlegend": true,
         "textposition": "auto",
         "type": "bar",
         "x": [
          "Citroen"
         ],
         "xaxis": "x",
         "y": [
          150
         ],
         "yaxis": "y"
        },
        {
         "alignmentgroup": "True",
         "hovertemplate": "Brand=%{x}<br>TopSpeed_KmH=%{y}<extra></extra>",
         "legendgroup": "Jaguar",
         "marker": {
          "color": "#B6E880",
          "pattern": {
           "shape": ""
          }
         },
         "name": "Jaguar",
         "offsetgroup": "Jaguar",
         "orientation": "v",
         "showlegend": true,
         "textposition": "auto",
         "type": "bar",
         "x": [
          "Jaguar"
         ],
         "xaxis": "x",
         "y": [
          200
         ],
         "yaxis": "y"
        },
        {
         "alignmentgroup": "True",
         "hovertemplate": "Brand=%{x}<br>TopSpeed_KmH=%{y}<extra></extra>",
         "legendgroup": "Ford",
         "marker": {
          "color": "#FF97FF",
          "pattern": {
           "shape": ""
          }
         },
         "name": "Ford",
         "offsetgroup": "Ford",
         "orientation": "v",
         "showlegend": true,
         "textposition": "auto",
         "type": "bar",
         "x": [
          "Ford",
          "Ford",
          "Ford",
          "Ford"
         ],
         "xaxis": "x",
         "y": [
          180,
          180,
          180,
          180
         ],
         "yaxis": "y"
        },
        {
         "alignmentgroup": "True",
         "hovertemplate": "Brand=%{x}<br>TopSpeed_KmH=%{y}<extra></extra>",
         "legendgroup": "Byton",
         "marker": {
          "color": "#FECB52",
          "pattern": {
           "shape": ""
          }
         },
         "name": "Byton",
         "offsetgroup": "Byton",
         "orientation": "v",
         "showlegend": true,
         "textposition": "auto",
         "type": "bar",
         "x": [
          "Byton",
          "Byton",
          "Byton"
         ],
         "xaxis": "x",
         "y": [
          190,
          190,
          190
         ],
         "yaxis": "y"
        },
        {
         "alignmentgroup": "True",
         "hovertemplate": "Brand=%{x}<br>TopSpeed_KmH=%{y}<extra></extra>",
         "legendgroup": "Sono",
         "marker": {
          "color": "#636efa",
          "pattern": {
           "shape": ""
          }
         },
         "name": "Sono",
         "offsetgroup": "Sono",
         "orientation": "v",
         "showlegend": true,
         "textposition": "auto",
         "type": "bar",
         "x": [
          "Sono"
         ],
         "xaxis": "x",
         "y": [
          140
         ],
         "yaxis": "y"
        },
        {
         "alignmentgroup": "True",
         "hovertemplate": "Brand=%{x}<br>TopSpeed_KmH=%{y}<extra></extra>",
         "legendgroup": "Smart",
         "marker": {
          "color": "#EF553B",
          "pattern": {
           "shape": ""
          }
         },
         "name": "Smart",
         "offsetgroup": "Smart",
         "orientation": "v",
         "showlegend": true,
         "textposition": "auto",
         "type": "bar",
         "x": [
          "Smart",
          "Smart",
          "Smart"
         ],
         "xaxis": "x",
         "y": [
          130,
          130,
          130
         ],
         "yaxis": "y"
        },
        {
         "alignmentgroup": "True",
         "hovertemplate": "Brand=%{x}<br>TopSpeed_KmH=%{y}<extra></extra>",
         "legendgroup": "Fiat",
         "marker": {
          "color": "#00cc96",
          "pattern": {
           "shape": ""
          }
         },
         "name": "Fiat",
         "offsetgroup": "Fiat",
         "orientation": "v",
         "showlegend": true,
         "textposition": "auto",
         "type": "bar",
         "x": [
          "Fiat",
          "Fiat"
         ],
         "xaxis": "x",
         "y": [
          150,
          150
         ],
         "yaxis": "y"
        }
       ],
       "layout": {
        "barmode": "relative",
        "legend": {
         "title": {
          "text": "Brand"
         },
         "tracegroupgap": 0
        },
        "template": {
         "data": {
          "bar": [
           {
            "error_x": {
             "color": "#2a3f5f"
            },
            "error_y": {
             "color": "#2a3f5f"
            },
            "marker": {
             "line": {
              "color": "#E5ECF6",
              "width": 0.5
             },
             "pattern": {
              "fillmode": "overlay",
              "size": 10,
              "solidity": 0.2
             }
            },
            "type": "bar"
           }
          ],
          "barpolar": [
           {
            "marker": {
             "line": {
              "color": "#E5ECF6",
              "width": 0.5
             },
             "pattern": {
              "fillmode": "overlay",
              "size": 10,
              "solidity": 0.2
             }
            },
            "type": "barpolar"
           }
          ],
          "carpet": [
           {
            "aaxis": {
             "endlinecolor": "#2a3f5f",
             "gridcolor": "white",
             "linecolor": "white",
             "minorgridcolor": "white",
             "startlinecolor": "#2a3f5f"
            },
            "baxis": {
             "endlinecolor": "#2a3f5f",
             "gridcolor": "white",
             "linecolor": "white",
             "minorgridcolor": "white",
             "startlinecolor": "#2a3f5f"
            },
            "type": "carpet"
           }
          ],
          "choropleth": [
           {
            "colorbar": {
             "outlinewidth": 0,
             "ticks": ""
            },
            "type": "choropleth"
           }
          ],
          "contour": [
           {
            "colorbar": {
             "outlinewidth": 0,
             "ticks": ""
            },
            "colorscale": [
             [
              0,
              "#0d0887"
             ],
             [
              0.1111111111111111,
              "#46039f"
             ],
             [
              0.2222222222222222,
              "#7201a8"
             ],
             [
              0.3333333333333333,
              "#9c179e"
             ],
             [
              0.4444444444444444,
              "#bd3786"
             ],
             [
              0.5555555555555556,
              "#d8576b"
             ],
             [
              0.6666666666666666,
              "#ed7953"
             ],
             [
              0.7777777777777778,
              "#fb9f3a"
             ],
             [
              0.8888888888888888,
              "#fdca26"
             ],
             [
              1,
              "#f0f921"
             ]
            ],
            "type": "contour"
           }
          ],
          "contourcarpet": [
           {
            "colorbar": {
             "outlinewidth": 0,
             "ticks": ""
            },
            "type": "contourcarpet"
           }
          ],
          "heatmap": [
           {
            "colorbar": {
             "outlinewidth": 0,
             "ticks": ""
            },
            "colorscale": [
             [
              0,
              "#0d0887"
             ],
             [
              0.1111111111111111,
              "#46039f"
             ],
             [
              0.2222222222222222,
              "#7201a8"
             ],
             [
              0.3333333333333333,
              "#9c179e"
             ],
             [
              0.4444444444444444,
              "#bd3786"
             ],
             [
              0.5555555555555556,
              "#d8576b"
             ],
             [
              0.6666666666666666,
              "#ed7953"
             ],
             [
              0.7777777777777778,
              "#fb9f3a"
             ],
             [
              0.8888888888888888,
              "#fdca26"
             ],
             [
              1,
              "#f0f921"
             ]
            ],
            "type": "heatmap"
           }
          ],
          "heatmapgl": [
           {
            "colorbar": {
             "outlinewidth": 0,
             "ticks": ""
            },
            "colorscale": [
             [
              0,
              "#0d0887"
             ],
             [
              0.1111111111111111,
              "#46039f"
             ],
             [
              0.2222222222222222,
              "#7201a8"
             ],
             [
              0.3333333333333333,
              "#9c179e"
             ],
             [
              0.4444444444444444,
              "#bd3786"
             ],
             [
              0.5555555555555556,
              "#d8576b"
             ],
             [
              0.6666666666666666,
              "#ed7953"
             ],
             [
              0.7777777777777778,
              "#fb9f3a"
             ],
             [
              0.8888888888888888,
              "#fdca26"
             ],
             [
              1,
              "#f0f921"
             ]
            ],
            "type": "heatmapgl"
           }
          ],
          "histogram": [
           {
            "marker": {
             "pattern": {
              "fillmode": "overlay",
              "size": 10,
              "solidity": 0.2
             }
            },
            "type": "histogram"
           }
          ],
          "histogram2d": [
           {
            "colorbar": {
             "outlinewidth": 0,
             "ticks": ""
            },
            "colorscale": [
             [
              0,
              "#0d0887"
             ],
             [
              0.1111111111111111,
              "#46039f"
             ],
             [
              0.2222222222222222,
              "#7201a8"
             ],
             [
              0.3333333333333333,
              "#9c179e"
             ],
             [
              0.4444444444444444,
              "#bd3786"
             ],
             [
              0.5555555555555556,
              "#d8576b"
             ],
             [
              0.6666666666666666,
              "#ed7953"
             ],
             [
              0.7777777777777778,
              "#fb9f3a"
             ],
             [
              0.8888888888888888,
              "#fdca26"
             ],
             [
              1,
              "#f0f921"
             ]
            ],
            "type": "histogram2d"
           }
          ],
          "histogram2dcontour": [
           {
            "colorbar": {
             "outlinewidth": 0,
             "ticks": ""
            },
            "colorscale": [
             [
              0,
              "#0d0887"
             ],
             [
              0.1111111111111111,
              "#46039f"
             ],
             [
              0.2222222222222222,
              "#7201a8"
             ],
             [
              0.3333333333333333,
              "#9c179e"
             ],
             [
              0.4444444444444444,
              "#bd3786"
             ],
             [
              0.5555555555555556,
              "#d8576b"
             ],
             [
              0.6666666666666666,
              "#ed7953"
             ],
             [
              0.7777777777777778,
              "#fb9f3a"
             ],
             [
              0.8888888888888888,
              "#fdca26"
             ],
             [
              1,
              "#f0f921"
             ]
            ],
            "type": "histogram2dcontour"
           }
          ],
          "mesh3d": [
           {
            "colorbar": {
             "outlinewidth": 0,
             "ticks": ""
            },
            "type": "mesh3d"
           }
          ],
          "parcoords": [
           {
            "line": {
             "colorbar": {
              "outlinewidth": 0,
              "ticks": ""
             }
            },
            "type": "parcoords"
           }
          ],
          "pie": [
           {
            "automargin": true,
            "type": "pie"
           }
          ],
          "scatter": [
           {
            "fillpattern": {
             "fillmode": "overlay",
             "size": 10,
             "solidity": 0.2
            },
            "type": "scatter"
           }
          ],
          "scatter3d": [
           {
            "line": {
             "colorbar": {
              "outlinewidth": 0,
              "ticks": ""
             }
            },
            "marker": {
             "colorbar": {
              "outlinewidth": 0,
              "ticks": ""
             }
            },
            "type": "scatter3d"
           }
          ],
          "scattercarpet": [
           {
            "marker": {
             "colorbar": {
              "outlinewidth": 0,
              "ticks": ""
             }
            },
            "type": "scattercarpet"
           }
          ],
          "scattergeo": [
           {
            "marker": {
             "colorbar": {
              "outlinewidth": 0,
              "ticks": ""
             }
            },
            "type": "scattergeo"
           }
          ],
          "scattergl": [
           {
            "marker": {
             "colorbar": {
              "outlinewidth": 0,
              "ticks": ""
             }
            },
            "type": "scattergl"
           }
          ],
          "scattermapbox": [
           {
            "marker": {
             "colorbar": {
              "outlinewidth": 0,
              "ticks": ""
             }
            },
            "type": "scattermapbox"
           }
          ],
          "scatterpolar": [
           {
            "marker": {
             "colorbar": {
              "outlinewidth": 0,
              "ticks": ""
             }
            },
            "type": "scatterpolar"
           }
          ],
          "scatterpolargl": [
           {
            "marker": {
             "colorbar": {
              "outlinewidth": 0,
              "ticks": ""
             }
            },
            "type": "scatterpolargl"
           }
          ],
          "scatterternary": [
           {
            "marker": {
             "colorbar": {
              "outlinewidth": 0,
              "ticks": ""
             }
            },
            "type": "scatterternary"
           }
          ],
          "surface": [
           {
            "colorbar": {
             "outlinewidth": 0,
             "ticks": ""
            },
            "colorscale": [
             [
              0,
              "#0d0887"
             ],
             [
              0.1111111111111111,
              "#46039f"
             ],
             [
              0.2222222222222222,
              "#7201a8"
             ],
             [
              0.3333333333333333,
              "#9c179e"
             ],
             [
              0.4444444444444444,
              "#bd3786"
             ],
             [
              0.5555555555555556,
              "#d8576b"
             ],
             [
              0.6666666666666666,
              "#ed7953"
             ],
             [
              0.7777777777777778,
              "#fb9f3a"
             ],
             [
              0.8888888888888888,
              "#fdca26"
             ],
             [
              1,
              "#f0f921"
             ]
            ],
            "type": "surface"
           }
          ],
          "table": [
           {
            "cells": {
             "fill": {
              "color": "#EBF0F8"
             },
             "line": {
              "color": "white"
             }
            },
            "header": {
             "fill": {
              "color": "#C8D4E3"
             },
             "line": {
              "color": "white"
             }
            },
            "type": "table"
           }
          ]
         },
         "layout": {
          "annotationdefaults": {
           "arrowcolor": "#2a3f5f",
           "arrowhead": 0,
           "arrowwidth": 1
          },
          "autotypenumbers": "strict",
          "coloraxis": {
           "colorbar": {
            "outlinewidth": 0,
            "ticks": ""
           }
          },
          "colorscale": {
           "diverging": [
            [
             0,
             "#8e0152"
            ],
            [
             0.1,
             "#c51b7d"
            ],
            [
             0.2,
             "#de77ae"
            ],
            [
             0.3,
             "#f1b6da"
            ],
            [
             0.4,
             "#fde0ef"
            ],
            [
             0.5,
             "#f7f7f7"
            ],
            [
             0.6,
             "#e6f5d0"
            ],
            [
             0.7,
             "#b8e186"
            ],
            [
             0.8,
             "#7fbc41"
            ],
            [
             0.9,
             "#4d9221"
            ],
            [
             1,
             "#276419"
            ]
           ],
           "sequential": [
            [
             0,
             "#0d0887"
            ],
            [
             0.1111111111111111,
             "#46039f"
            ],
            [
             0.2222222222222222,
             "#7201a8"
            ],
            [
             0.3333333333333333,
             "#9c179e"
            ],
            [
             0.4444444444444444,
             "#bd3786"
            ],
            [
             0.5555555555555556,
             "#d8576b"
            ],
            [
             0.6666666666666666,
             "#ed7953"
            ],
            [
             0.7777777777777778,
             "#fb9f3a"
            ],
            [
             0.8888888888888888,
             "#fdca26"
            ],
            [
             1,
             "#f0f921"
            ]
           ],
           "sequentialminus": [
            [
             0,
             "#0d0887"
            ],
            [
             0.1111111111111111,
             "#46039f"
            ],
            [
             0.2222222222222222,
             "#7201a8"
            ],
            [
             0.3333333333333333,
             "#9c179e"
            ],
            [
             0.4444444444444444,
             "#bd3786"
            ],
            [
             0.5555555555555556,
             "#d8576b"
            ],
            [
             0.6666666666666666,
             "#ed7953"
            ],
            [
             0.7777777777777778,
             "#fb9f3a"
            ],
            [
             0.8888888888888888,
             "#fdca26"
            ],
            [
             1,
             "#f0f921"
            ]
           ]
          },
          "colorway": [
           "#636efa",
           "#EF553B",
           "#00cc96",
           "#ab63fa",
           "#FFA15A",
           "#19d3f3",
           "#FF6692",
           "#B6E880",
           "#FF97FF",
           "#FECB52"
          ],
          "font": {
           "color": "#2a3f5f"
          },
          "geo": {
           "bgcolor": "white",
           "lakecolor": "white",
           "landcolor": "#E5ECF6",
           "showlakes": true,
           "showland": true,
           "subunitcolor": "white"
          },
          "hoverlabel": {
           "align": "left"
          },
          "hovermode": "closest",
          "mapbox": {
           "style": "light"
          },
          "paper_bgcolor": "white",
          "plot_bgcolor": "#E5ECF6",
          "polar": {
           "angularaxis": {
            "gridcolor": "white",
            "linecolor": "white",
            "ticks": ""
           },
           "bgcolor": "#E5ECF6",
           "radialaxis": {
            "gridcolor": "white",
            "linecolor": "white",
            "ticks": ""
           }
          },
          "scene": {
           "xaxis": {
            "backgroundcolor": "#E5ECF6",
            "gridcolor": "white",
            "gridwidth": 2,
            "linecolor": "white",
            "showbackground": true,
            "ticks": "",
            "zerolinecolor": "white"
           },
           "yaxis": {
            "backgroundcolor": "#E5ECF6",
            "gridcolor": "white",
            "gridwidth": 2,
            "linecolor": "white",
            "showbackground": true,
            "ticks": "",
            "zerolinecolor": "white"
           },
           "zaxis": {
            "backgroundcolor": "#E5ECF6",
            "gridcolor": "white",
            "gridwidth": 2,
            "linecolor": "white",
            "showbackground": true,
            "ticks": "",
            "zerolinecolor": "white"
           }
          },
          "shapedefaults": {
           "line": {
            "color": "#2a3f5f"
           }
          },
          "ternary": {
           "aaxis": {
            "gridcolor": "white",
            "linecolor": "white",
            "ticks": ""
           },
           "baxis": {
            "gridcolor": "white",
            "linecolor": "white",
            "ticks": ""
           },
           "bgcolor": "#E5ECF6",
           "caxis": {
            "gridcolor": "white",
            "linecolor": "white",
            "ticks": ""
           }
          },
          "title": {
           "x": 0.05
          },
          "xaxis": {
           "automargin": true,
           "gridcolor": "white",
           "linecolor": "white",
           "ticks": "",
           "title": {
            "standoff": 15
           },
           "zerolinecolor": "white",
           "zerolinewidth": 2
          },
          "yaxis": {
           "automargin": true,
           "gridcolor": "white",
           "linecolor": "white",
           "ticks": "",
           "title": {
            "standoff": 15
           },
           "zerolinecolor": "white",
           "zerolinewidth": 2
          }
         }
        },
        "title": {
         "text": "Top Speed"
        },
        "xaxis": {
         "anchor": "y",
         "categoryarray": [
          "Tesla",
          "Volkswagen",
          "Polestar",
          "BMW",
          "Honda",
          "Lucid",
          "Peugeot",
          "Audi",
          "Mercedes",
          "Nissan",
          "Hyundai",
          "Porsche",
          "MG",
          "Mini",
          "Opel",
          "Skoda",
          "Volvo",
          "Kia",
          "Renault",
          "Mazda",
          "Lexus",
          "CUPRA",
          "SEAT",
          "Lightyear",
          "Aiways",
          "DS",
          "Citroen",
          "Jaguar",
          "Ford",
          "Byton",
          "Sono",
          "Smart",
          "Fiat"
         ],
         "categoryorder": "array",
         "domain": [
          0,
          1
         ],
         "title": {
          "text": "Brand"
         }
        },
        "yaxis": {
         "anchor": "x",
         "domain": [
          0,
          1
         ],
         "title": {
          "text": "TopSpeed_KmH"
         }
        }
       }
      },
      "text/html": [
       "<div>                            <div id=\"17fdbe6b-059f-4264-aa54-60464ee34f89\" class=\"plotly-graph-div\" style=\"height:525px; width:100%;\"></div>            <script type=\"text/javascript\">                require([\"plotly\"], function(Plotly) {                    window.PLOTLYENV=window.PLOTLYENV || {};                                    if (document.getElementById(\"17fdbe6b-059f-4264-aa54-60464ee34f89\")) {                    Plotly.newPlot(                        \"17fdbe6b-059f-4264-aa54-60464ee34f89\",                        [{\"alignmentgroup\":\"True\",\"hovertemplate\":\"Brand=%{x}<br>TopSpeed_KmH=%{y}<extra></extra>\",\"legendgroup\":\"Tesla\",\"marker\":{\"color\":\"#636efa\",\"pattern\":{\"shape\":\"\"}},\"name\":\"Tesla\",\"offsetgroup\":\"Tesla\",\"orientation\":\"v\",\"showlegend\":true,\"textposition\":\"auto\",\"x\":[\"Tesla\",\"Tesla\",\"Tesla\",\"Tesla\",\"Tesla\",\"Tesla\",\"Tesla\",\"Tesla\",\"Tesla\",\"Tesla\",\"Tesla\",\"Tesla\",\"Tesla\"],\"xaxis\":\"x\",\"y\":[233,225,217,261,210,250,410,250,261,241,190,250,180],\"yaxis\":\"y\",\"type\":\"bar\"},{\"alignmentgroup\":\"True\",\"hovertemplate\":\"Brand=%{x}<br>TopSpeed_KmH=%{y}<extra></extra>\",\"legendgroup\":\"Volkswagen\",\"marker\":{\"color\":\"#EF553B\",\"pattern\":{\"shape\":\"\"}},\"name\":\"Volkswagen\",\"offsetgroup\":\"Volkswagen\",\"orientation\":\"v\",\"showlegend\":true,\"textposition\":\"auto\",\"x\":[\"Volkswagen\",\"Volkswagen\",\"Volkswagen\",\"Volkswagen\",\"Volkswagen\",\"Volkswagen\",\"Volkswagen\",\"Volkswagen\"],\"xaxis\":\"x\",\"y\":[160,150,160,130,160,160,160,160],\"yaxis\":\"y\",\"type\":\"bar\"},{\"alignmentgroup\":\"True\",\"hovertemplate\":\"Brand=%{x}<br>TopSpeed_KmH=%{y}<extra></extra>\",\"legendgroup\":\"Polestar\",\"marker\":{\"color\":\"#00cc96\",\"pattern\":{\"shape\":\"\"}},\"name\":\"Polestar\",\"offsetgroup\":\"Polestar\",\"orientation\":\"v\",\"showlegend\":true,\"textposition\":\"auto\",\"x\":[\"Polestar\"],\"xaxis\":\"x\",\"y\":[210],\"yaxis\":\"y\",\"type\":\"bar\"},{\"alignmentgroup\":\"True\",\"hovertemplate\":\"Brand=%{x}<br>TopSpeed_KmH=%{y}<extra></extra>\",\"legendgroup\":\"BMW\",\"marker\":{\"color\":\"#ab63fa\",\"pattern\":{\"shape\":\"\"}},\"name\":\"BMW\",\"offsetgroup\":\"BMW\",\"orientation\":\"v\",\"showlegend\":true,\"textposition\":\"auto\",\"x\":[\"BMW\",\"BMW\",\"BMW\",\"BMW\"],\"xaxis\":\"x\",\"y\":[180,200,150,160],\"yaxis\":\"y\",\"type\":\"bar\"},{\"alignmentgroup\":\"True\",\"hovertemplate\":\"Brand=%{x}<br>TopSpeed_KmH=%{y}<extra></extra>\",\"legendgroup\":\"Honda\",\"marker\":{\"color\":\"#FFA15A\",\"pattern\":{\"shape\":\"\"}},\"name\":\"Honda\",\"offsetgroup\":\"Honda\",\"orientation\":\"v\",\"showlegend\":true,\"textposition\":\"auto\",\"x\":[\"Honda\",\"Honda\"],\"xaxis\":\"x\",\"y\":[145,145],\"yaxis\":\"y\",\"type\":\"bar\"},{\"alignmentgroup\":\"True\",\"hovertemplate\":\"Brand=%{x}<br>TopSpeed_KmH=%{y}<extra></extra>\",\"legendgroup\":\"Lucid\",\"marker\":{\"color\":\"#19d3f3\",\"pattern\":{\"shape\":\"\"}},\"name\":\"Lucid\",\"offsetgroup\":\"Lucid\",\"orientation\":\"v\",\"showlegend\":true,\"textposition\":\"auto\",\"x\":[\"Lucid\"],\"xaxis\":\"x\",\"y\":[250],\"yaxis\":\"y\",\"type\":\"bar\"},{\"alignmentgroup\":\"True\",\"hovertemplate\":\"Brand=%{x}<br>TopSpeed_KmH=%{y}<extra></extra>\",\"legendgroup\":\"Peugeot\",\"marker\":{\"color\":\"#FF6692\",\"pattern\":{\"shape\":\"\"}},\"name\":\"Peugeot\",\"offsetgroup\":\"Peugeot\",\"orientation\":\"v\",\"showlegend\":true,\"textposition\":\"auto\",\"x\":[\"Peugeot\",\"Peugeot\"],\"xaxis\":\"x\",\"y\":[150,150],\"yaxis\":\"y\",\"type\":\"bar\"},{\"alignmentgroup\":\"True\",\"hovertemplate\":\"Brand=%{x}<br>TopSpeed_KmH=%{y}<extra></extra>\",\"legendgroup\":\"Audi\",\"marker\":{\"color\":\"#B6E880\",\"pattern\":{\"shape\":\"\"}},\"name\":\"Audi\",\"offsetgroup\":\"Audi\",\"orientation\":\"v\",\"showlegend\":true,\"textposition\":\"auto\",\"x\":[\"Audi\",\"Audi\",\"Audi\",\"Audi\",\"Audi\",\"Audi\",\"Audi\",\"Audi\",\"Audi\"],\"xaxis\":\"x\",\"y\":[180,240,190,200,200,180,190,210,210],\"yaxis\":\"y\",\"type\":\"bar\"},{\"alignmentgroup\":\"True\",\"hovertemplate\":\"Brand=%{x}<br>TopSpeed_KmH=%{y}<extra></extra>\",\"legendgroup\":\"Mercedes\",\"marker\":{\"color\":\"#FF97FF\",\"pattern\":{\"shape\":\"\"}},\"name\":\"Mercedes\",\"offsetgroup\":\"Mercedes\",\"orientation\":\"v\",\"showlegend\":true,\"textposition\":\"auto\",\"x\":[\"Mercedes\",\"Mercedes\",\"Mercedes\"],\"xaxis\":\"x\",\"y\":[180,200,140],\"yaxis\":\"y\",\"type\":\"bar\"},{\"alignmentgroup\":\"True\",\"hovertemplate\":\"Brand=%{x}<br>TopSpeed_KmH=%{y}<extra></extra>\",\"legendgroup\":\"Nissan\",\"marker\":{\"color\":\"#FECB52\",\"pattern\":{\"shape\":\"\"}},\"name\":\"Nissan\",\"offsetgroup\":\"Nissan\",\"orientation\":\"v\",\"showlegend\":true,\"textposition\":\"auto\",\"x\":[\"Nissan\",\"Nissan\",\"Nissan\",\"Nissan\",\"Nissan\",\"Nissan\",\"Nissan\",\"Nissan\"],\"xaxis\":\"x\",\"y\":[144,157,160,123,200,160,200,200],\"yaxis\":\"y\",\"type\":\"bar\"},{\"alignmentgroup\":\"True\",\"hovertemplate\":\"Brand=%{x}<br>TopSpeed_KmH=%{y}<extra></extra>\",\"legendgroup\":\"Hyundai\",\"marker\":{\"color\":\"#636efa\",\"pattern\":{\"shape\":\"\"}},\"name\":\"Hyundai\",\"offsetgroup\":\"Hyundai\",\"orientation\":\"v\",\"showlegend\":true,\"textposition\":\"auto\",\"x\":[\"Hyundai\",\"Hyundai\",\"Hyundai\"],\"xaxis\":\"x\",\"y\":[167,165,155],\"yaxis\":\"y\",\"type\":\"bar\"},{\"alignmentgroup\":\"True\",\"hovertemplate\":\"Brand=%{x}<br>TopSpeed_KmH=%{y}<extra></extra>\",\"legendgroup\":\"Porsche\",\"marker\":{\"color\":\"#EF553B\",\"pattern\":{\"shape\":\"\"}},\"name\":\"Porsche\",\"offsetgroup\":\"Porsche\",\"orientation\":\"v\",\"showlegend\":true,\"textposition\":\"auto\",\"x\":[\"Porsche\",\"Porsche\",\"Porsche\",\"Porsche\",\"Porsche\"],\"xaxis\":\"x\",\"y\":[260,250,250,250,260],\"yaxis\":\"y\",\"type\":\"bar\"},{\"alignmentgroup\":\"True\",\"hovertemplate\":\"Brand=%{x}<br>TopSpeed_KmH=%{y}<extra></extra>\",\"legendgroup\":\"MG\",\"marker\":{\"color\":\"#00cc96\",\"pattern\":{\"shape\":\"\"}},\"name\":\"MG\",\"offsetgroup\":\"MG\",\"orientation\":\"v\",\"showlegend\":true,\"textposition\":\"auto\",\"x\":[\"MG\"],\"xaxis\":\"x\",\"y\":[140],\"yaxis\":\"y\",\"type\":\"bar\"},{\"alignmentgroup\":\"True\",\"hovertemplate\":\"Brand=%{x}<br>TopSpeed_KmH=%{y}<extra></extra>\",\"legendgroup\":\"Mini\",\"marker\":{\"color\":\"#ab63fa\",\"pattern\":{\"shape\":\"\"}},\"name\":\"Mini\",\"offsetgroup\":\"Mini\",\"orientation\":\"v\",\"showlegend\":true,\"textposition\":\"auto\",\"x\":[\"Mini\"],\"xaxis\":\"x\",\"y\":[150],\"yaxis\":\"y\",\"type\":\"bar\"},{\"alignmentgroup\":\"True\",\"hovertemplate\":\"Brand=%{x}<br>TopSpeed_KmH=%{y}<extra></extra>\",\"legendgroup\":\"Opel\",\"marker\":{\"color\":\"#FFA15A\",\"pattern\":{\"shape\":\"\"}},\"name\":\"Opel\",\"offsetgroup\":\"Opel\",\"orientation\":\"v\",\"showlegend\":true,\"textposition\":\"auto\",\"x\":[\"Opel\",\"Opel\",\"Opel\"],\"xaxis\":\"x\",\"y\":[150,150,150],\"yaxis\":\"y\",\"type\":\"bar\"},{\"alignmentgroup\":\"True\",\"hovertemplate\":\"Brand=%{x}<br>TopSpeed_KmH=%{y}<extra></extra>\",\"legendgroup\":\"Skoda\",\"marker\":{\"color\":\"#19d3f3\",\"pattern\":{\"shape\":\"\"}},\"name\":\"Skoda\",\"offsetgroup\":\"Skoda\",\"orientation\":\"v\",\"showlegend\":true,\"textposition\":\"auto\",\"x\":[\"Skoda\",\"Skoda\",\"Skoda\",\"Skoda\",\"Skoda\",\"Skoda\"],\"xaxis\":\"x\",\"y\":[160,130,160,160,180,160],\"yaxis\":\"y\",\"type\":\"bar\"},{\"alignmentgroup\":\"True\",\"hovertemplate\":\"Brand=%{x}<br>TopSpeed_KmH=%{y}<extra></extra>\",\"legendgroup\":\"Volvo\",\"marker\":{\"color\":\"#FF6692\",\"pattern\":{\"shape\":\"\"}},\"name\":\"Volvo\",\"offsetgroup\":\"Volvo\",\"orientation\":\"v\",\"showlegend\":true,\"textposition\":\"auto\",\"x\":[\"Volvo\"],\"xaxis\":\"x\",\"y\":[180],\"yaxis\":\"y\",\"type\":\"bar\"},{\"alignmentgroup\":\"True\",\"hovertemplate\":\"Brand=%{x}<br>TopSpeed_KmH=%{y}<extra></extra>\",\"legendgroup\":\"Kia\",\"marker\":{\"color\":\"#B6E880\",\"pattern\":{\"shape\":\"\"}},\"name\":\"Kia\",\"offsetgroup\":\"Kia\",\"orientation\":\"v\",\"showlegend\":true,\"textposition\":\"auto\",\"x\":[\"Kia\",\"Kia\",\"Kia\",\"Kia\"],\"xaxis\":\"x\",\"y\":[167,167,155,157],\"yaxis\":\"y\",\"type\":\"bar\"},{\"alignmentgroup\":\"True\",\"hovertemplate\":\"Brand=%{x}<br>TopSpeed_KmH=%{y}<extra></extra>\",\"legendgroup\":\"Renault\",\"marker\":{\"color\":\"#FF97FF\",\"pattern\":{\"shape\":\"\"}},\"name\":\"Renault\",\"offsetgroup\":\"Renault\",\"orientation\":\"v\",\"showlegend\":true,\"textposition\":\"auto\",\"x\":[\"Renault\",\"Renault\",\"Renault\",\"Renault\",\"Renault\"],\"xaxis\":\"x\",\"y\":[135,140,135,135,130],\"yaxis\":\"y\",\"type\":\"bar\"},{\"alignmentgroup\":\"True\",\"hovertemplate\":\"Brand=%{x}<br>TopSpeed_KmH=%{y}<extra></extra>\",\"legendgroup\":\"Mazda\",\"marker\":{\"color\":\"#FECB52\",\"pattern\":{\"shape\":\"\"}},\"name\":\"Mazda\",\"offsetgroup\":\"Mazda\",\"orientation\":\"v\",\"showlegend\":true,\"textposition\":\"auto\",\"x\":[\"Mazda\"],\"xaxis\":\"x\",\"y\":[150],\"yaxis\":\"y\",\"type\":\"bar\"},{\"alignmentgroup\":\"True\",\"hovertemplate\":\"Brand=%{x}<br>TopSpeed_KmH=%{y}<extra></extra>\",\"legendgroup\":\"Lexus\",\"marker\":{\"color\":\"#636efa\",\"pattern\":{\"shape\":\"\"}},\"name\":\"Lexus\",\"offsetgroup\":\"Lexus\",\"orientation\":\"v\",\"showlegend\":true,\"textposition\":\"auto\",\"x\":[\"Lexus\"],\"xaxis\":\"x\",\"y\":[160],\"yaxis\":\"y\",\"type\":\"bar\"},{\"alignmentgroup\":\"True\",\"hovertemplate\":\"Brand=%{x}<br>TopSpeed_KmH=%{y}<extra></extra>\",\"legendgroup\":\"CUPRA\",\"marker\":{\"color\":\"#EF553B\",\"pattern\":{\"shape\":\"\"}},\"name\":\"CUPRA\",\"offsetgroup\":\"CUPRA\",\"orientation\":\"v\",\"showlegend\":true,\"textposition\":\"auto\",\"x\":[\"CUPRA\"],\"xaxis\":\"x\",\"y\":[160],\"yaxis\":\"y\",\"type\":\"bar\"},{\"alignmentgroup\":\"True\",\"hovertemplate\":\"Brand=%{x}<br>TopSpeed_KmH=%{y}<extra></extra>\",\"legendgroup\":\"SEAT\",\"marker\":{\"color\":\"#00cc96\",\"pattern\":{\"shape\":\"\"}},\"name\":\"SEAT\",\"offsetgroup\":\"SEAT\",\"orientation\":\"v\",\"showlegend\":true,\"textposition\":\"auto\",\"x\":[\"SEAT\"],\"xaxis\":\"x\",\"y\":[130],\"yaxis\":\"y\",\"type\":\"bar\"},{\"alignmentgroup\":\"True\",\"hovertemplate\":\"Brand=%{x}<br>TopSpeed_KmH=%{y}<extra></extra>\",\"legendgroup\":\"Lightyear\",\"marker\":{\"color\":\"#ab63fa\",\"pattern\":{\"shape\":\"\"}},\"name\":\"Lightyear\",\"offsetgroup\":\"Lightyear\",\"orientation\":\"v\",\"showlegend\":true,\"textposition\":\"auto\",\"x\":[\"Lightyear\"],\"xaxis\":\"x\",\"y\":[150],\"yaxis\":\"y\",\"type\":\"bar\"},{\"alignmentgroup\":\"True\",\"hovertemplate\":\"Brand=%{x}<br>TopSpeed_KmH=%{y}<extra></extra>\",\"legendgroup\":\"Aiways\",\"marker\":{\"color\":\"#FFA15A\",\"pattern\":{\"shape\":\"\"}},\"name\":\"Aiways\",\"offsetgroup\":\"Aiways\",\"orientation\":\"v\",\"showlegend\":true,\"textposition\":\"auto\",\"x\":[\"Aiways\"],\"xaxis\":\"x\",\"y\":[150],\"yaxis\":\"y\",\"type\":\"bar\"},{\"alignmentgroup\":\"True\",\"hovertemplate\":\"Brand=%{x}<br>TopSpeed_KmH=%{y}<extra></extra>\",\"legendgroup\":\"DS\",\"marker\":{\"color\":\"#19d3f3\",\"pattern\":{\"shape\":\"\"}},\"name\":\"DS\",\"offsetgroup\":\"DS\",\"orientation\":\"v\",\"showlegend\":true,\"textposition\":\"auto\",\"x\":[\"DS\"],\"xaxis\":\"x\",\"y\":[150],\"yaxis\":\"y\",\"type\":\"bar\"},{\"alignmentgroup\":\"True\",\"hovertemplate\":\"Brand=%{x}<br>TopSpeed_KmH=%{y}<extra></extra>\",\"legendgroup\":\"Citroen\",\"marker\":{\"color\":\"#FF6692\",\"pattern\":{\"shape\":\"\"}},\"name\":\"Citroen\",\"offsetgroup\":\"Citroen\",\"orientation\":\"v\",\"showlegend\":true,\"textposition\":\"auto\",\"x\":[\"Citroen\"],\"xaxis\":\"x\",\"y\":[150],\"yaxis\":\"y\",\"type\":\"bar\"},{\"alignmentgroup\":\"True\",\"hovertemplate\":\"Brand=%{x}<br>TopSpeed_KmH=%{y}<extra></extra>\",\"legendgroup\":\"Jaguar\",\"marker\":{\"color\":\"#B6E880\",\"pattern\":{\"shape\":\"\"}},\"name\":\"Jaguar\",\"offsetgroup\":\"Jaguar\",\"orientation\":\"v\",\"showlegend\":true,\"textposition\":\"auto\",\"x\":[\"Jaguar\"],\"xaxis\":\"x\",\"y\":[200],\"yaxis\":\"y\",\"type\":\"bar\"},{\"alignmentgroup\":\"True\",\"hovertemplate\":\"Brand=%{x}<br>TopSpeed_KmH=%{y}<extra></extra>\",\"legendgroup\":\"Ford\",\"marker\":{\"color\":\"#FF97FF\",\"pattern\":{\"shape\":\"\"}},\"name\":\"Ford\",\"offsetgroup\":\"Ford\",\"orientation\":\"v\",\"showlegend\":true,\"textposition\":\"auto\",\"x\":[\"Ford\",\"Ford\",\"Ford\",\"Ford\"],\"xaxis\":\"x\",\"y\":[180,180,180,180],\"yaxis\":\"y\",\"type\":\"bar\"},{\"alignmentgroup\":\"True\",\"hovertemplate\":\"Brand=%{x}<br>TopSpeed_KmH=%{y}<extra></extra>\",\"legendgroup\":\"Byton\",\"marker\":{\"color\":\"#FECB52\",\"pattern\":{\"shape\":\"\"}},\"name\":\"Byton\",\"offsetgroup\":\"Byton\",\"orientation\":\"v\",\"showlegend\":true,\"textposition\":\"auto\",\"x\":[\"Byton\",\"Byton\",\"Byton\"],\"xaxis\":\"x\",\"y\":[190,190,190],\"yaxis\":\"y\",\"type\":\"bar\"},{\"alignmentgroup\":\"True\",\"hovertemplate\":\"Brand=%{x}<br>TopSpeed_KmH=%{y}<extra></extra>\",\"legendgroup\":\"Sono\",\"marker\":{\"color\":\"#636efa\",\"pattern\":{\"shape\":\"\"}},\"name\":\"Sono\",\"offsetgroup\":\"Sono\",\"orientation\":\"v\",\"showlegend\":true,\"textposition\":\"auto\",\"x\":[\"Sono\"],\"xaxis\":\"x\",\"y\":[140],\"yaxis\":\"y\",\"type\":\"bar\"},{\"alignmentgroup\":\"True\",\"hovertemplate\":\"Brand=%{x}<br>TopSpeed_KmH=%{y}<extra></extra>\",\"legendgroup\":\"Smart\",\"marker\":{\"color\":\"#EF553B\",\"pattern\":{\"shape\":\"\"}},\"name\":\"Smart\",\"offsetgroup\":\"Smart\",\"orientation\":\"v\",\"showlegend\":true,\"textposition\":\"auto\",\"x\":[\"Smart\",\"Smart\",\"Smart\"],\"xaxis\":\"x\",\"y\":[130,130,130],\"yaxis\":\"y\",\"type\":\"bar\"},{\"alignmentgroup\":\"True\",\"hovertemplate\":\"Brand=%{x}<br>TopSpeed_KmH=%{y}<extra></extra>\",\"legendgroup\":\"Fiat\",\"marker\":{\"color\":\"#00cc96\",\"pattern\":{\"shape\":\"\"}},\"name\":\"Fiat\",\"offsetgroup\":\"Fiat\",\"orientation\":\"v\",\"showlegend\":true,\"textposition\":\"auto\",\"x\":[\"Fiat\",\"Fiat\"],\"xaxis\":\"x\",\"y\":[150,150],\"yaxis\":\"y\",\"type\":\"bar\"}],                        {\"template\":{\"data\":{\"histogram2dcontour\":[{\"type\":\"histogram2dcontour\",\"colorbar\":{\"outlinewidth\":0,\"ticks\":\"\"},\"colorscale\":[[0.0,\"#0d0887\"],[0.1111111111111111,\"#46039f\"],[0.2222222222222222,\"#7201a8\"],[0.3333333333333333,\"#9c179e\"],[0.4444444444444444,\"#bd3786\"],[0.5555555555555556,\"#d8576b\"],[0.6666666666666666,\"#ed7953\"],[0.7777777777777778,\"#fb9f3a\"],[0.8888888888888888,\"#fdca26\"],[1.0,\"#f0f921\"]]}],\"choropleth\":[{\"type\":\"choropleth\",\"colorbar\":{\"outlinewidth\":0,\"ticks\":\"\"}}],\"histogram2d\":[{\"type\":\"histogram2d\",\"colorbar\":{\"outlinewidth\":0,\"ticks\":\"\"},\"colorscale\":[[0.0,\"#0d0887\"],[0.1111111111111111,\"#46039f\"],[0.2222222222222222,\"#7201a8\"],[0.3333333333333333,\"#9c179e\"],[0.4444444444444444,\"#bd3786\"],[0.5555555555555556,\"#d8576b\"],[0.6666666666666666,\"#ed7953\"],[0.7777777777777778,\"#fb9f3a\"],[0.8888888888888888,\"#fdca26\"],[1.0,\"#f0f921\"]]}],\"heatmap\":[{\"type\":\"heatmap\",\"colorbar\":{\"outlinewidth\":0,\"ticks\":\"\"},\"colorscale\":[[0.0,\"#0d0887\"],[0.1111111111111111,\"#46039f\"],[0.2222222222222222,\"#7201a8\"],[0.3333333333333333,\"#9c179e\"],[0.4444444444444444,\"#bd3786\"],[0.5555555555555556,\"#d8576b\"],[0.6666666666666666,\"#ed7953\"],[0.7777777777777778,\"#fb9f3a\"],[0.8888888888888888,\"#fdca26\"],[1.0,\"#f0f921\"]]}],\"heatmapgl\":[{\"type\":\"heatmapgl\",\"colorbar\":{\"outlinewidth\":0,\"ticks\":\"\"},\"colorscale\":[[0.0,\"#0d0887\"],[0.1111111111111111,\"#46039f\"],[0.2222222222222222,\"#7201a8\"],[0.3333333333333333,\"#9c179e\"],[0.4444444444444444,\"#bd3786\"],[0.5555555555555556,\"#d8576b\"],[0.6666666666666666,\"#ed7953\"],[0.7777777777777778,\"#fb9f3a\"],[0.8888888888888888,\"#fdca26\"],[1.0,\"#f0f921\"]]}],\"contourcarpet\":[{\"type\":\"contourcarpet\",\"colorbar\":{\"outlinewidth\":0,\"ticks\":\"\"}}],\"contour\":[{\"type\":\"contour\",\"colorbar\":{\"outlinewidth\":0,\"ticks\":\"\"},\"colorscale\":[[0.0,\"#0d0887\"],[0.1111111111111111,\"#46039f\"],[0.2222222222222222,\"#7201a8\"],[0.3333333333333333,\"#9c179e\"],[0.4444444444444444,\"#bd3786\"],[0.5555555555555556,\"#d8576b\"],[0.6666666666666666,\"#ed7953\"],[0.7777777777777778,\"#fb9f3a\"],[0.8888888888888888,\"#fdca26\"],[1.0,\"#f0f921\"]]}],\"surface\":[{\"type\":\"surface\",\"colorbar\":{\"outlinewidth\":0,\"ticks\":\"\"},\"colorscale\":[[0.0,\"#0d0887\"],[0.1111111111111111,\"#46039f\"],[0.2222222222222222,\"#7201a8\"],[0.3333333333333333,\"#9c179e\"],[0.4444444444444444,\"#bd3786\"],[0.5555555555555556,\"#d8576b\"],[0.6666666666666666,\"#ed7953\"],[0.7777777777777778,\"#fb9f3a\"],[0.8888888888888888,\"#fdca26\"],[1.0,\"#f0f921\"]]}],\"mesh3d\":[{\"type\":\"mesh3d\",\"colorbar\":{\"outlinewidth\":0,\"ticks\":\"\"}}],\"scatter\":[{\"fillpattern\":{\"fillmode\":\"overlay\",\"size\":10,\"solidity\":0.2},\"type\":\"scatter\"}],\"parcoords\":[{\"type\":\"parcoords\",\"line\":{\"colorbar\":{\"outlinewidth\":0,\"ticks\":\"\"}}}],\"scatterpolargl\":[{\"type\":\"scatterpolargl\",\"marker\":{\"colorbar\":{\"outlinewidth\":0,\"ticks\":\"\"}}}],\"bar\":[{\"error_x\":{\"color\":\"#2a3f5f\"},\"error_y\":{\"color\":\"#2a3f5f\"},\"marker\":{\"line\":{\"color\":\"#E5ECF6\",\"width\":0.5},\"pattern\":{\"fillmode\":\"overlay\",\"size\":10,\"solidity\":0.2}},\"type\":\"bar\"}],\"scattergeo\":[{\"type\":\"scattergeo\",\"marker\":{\"colorbar\":{\"outlinewidth\":0,\"ticks\":\"\"}}}],\"scatterpolar\":[{\"type\":\"scatterpolar\",\"marker\":{\"colorbar\":{\"outlinewidth\":0,\"ticks\":\"\"}}}],\"histogram\":[{\"marker\":{\"pattern\":{\"fillmode\":\"overlay\",\"size\":10,\"solidity\":0.2}},\"type\":\"histogram\"}],\"scattergl\":[{\"type\":\"scattergl\",\"marker\":{\"colorbar\":{\"outlinewidth\":0,\"ticks\":\"\"}}}],\"scatter3d\":[{\"type\":\"scatter3d\",\"line\":{\"colorbar\":{\"outlinewidth\":0,\"ticks\":\"\"}},\"marker\":{\"colorbar\":{\"outlinewidth\":0,\"ticks\":\"\"}}}],\"scattermapbox\":[{\"type\":\"scattermapbox\",\"marker\":{\"colorbar\":{\"outlinewidth\":0,\"ticks\":\"\"}}}],\"scatterternary\":[{\"type\":\"scatterternary\",\"marker\":{\"colorbar\":{\"outlinewidth\":0,\"ticks\":\"\"}}}],\"scattercarpet\":[{\"type\":\"scattercarpet\",\"marker\":{\"colorbar\":{\"outlinewidth\":0,\"ticks\":\"\"}}}],\"carpet\":[{\"aaxis\":{\"endlinecolor\":\"#2a3f5f\",\"gridcolor\":\"white\",\"linecolor\":\"white\",\"minorgridcolor\":\"white\",\"startlinecolor\":\"#2a3f5f\"},\"baxis\":{\"endlinecolor\":\"#2a3f5f\",\"gridcolor\":\"white\",\"linecolor\":\"white\",\"minorgridcolor\":\"white\",\"startlinecolor\":\"#2a3f5f\"},\"type\":\"carpet\"}],\"table\":[{\"cells\":{\"fill\":{\"color\":\"#EBF0F8\"},\"line\":{\"color\":\"white\"}},\"header\":{\"fill\":{\"color\":\"#C8D4E3\"},\"line\":{\"color\":\"white\"}},\"type\":\"table\"}],\"barpolar\":[{\"marker\":{\"line\":{\"color\":\"#E5ECF6\",\"width\":0.5},\"pattern\":{\"fillmode\":\"overlay\",\"size\":10,\"solidity\":0.2}},\"type\":\"barpolar\"}],\"pie\":[{\"automargin\":true,\"type\":\"pie\"}]},\"layout\":{\"autotypenumbers\":\"strict\",\"colorway\":[\"#636efa\",\"#EF553B\",\"#00cc96\",\"#ab63fa\",\"#FFA15A\",\"#19d3f3\",\"#FF6692\",\"#B6E880\",\"#FF97FF\",\"#FECB52\"],\"font\":{\"color\":\"#2a3f5f\"},\"hovermode\":\"closest\",\"hoverlabel\":{\"align\":\"left\"},\"paper_bgcolor\":\"white\",\"plot_bgcolor\":\"#E5ECF6\",\"polar\":{\"bgcolor\":\"#E5ECF6\",\"angularaxis\":{\"gridcolor\":\"white\",\"linecolor\":\"white\",\"ticks\":\"\"},\"radialaxis\":{\"gridcolor\":\"white\",\"linecolor\":\"white\",\"ticks\":\"\"}},\"ternary\":{\"bgcolor\":\"#E5ECF6\",\"aaxis\":{\"gridcolor\":\"white\",\"linecolor\":\"white\",\"ticks\":\"\"},\"baxis\":{\"gridcolor\":\"white\",\"linecolor\":\"white\",\"ticks\":\"\"},\"caxis\":{\"gridcolor\":\"white\",\"linecolor\":\"white\",\"ticks\":\"\"}},\"coloraxis\":{\"colorbar\":{\"outlinewidth\":0,\"ticks\":\"\"}},\"colorscale\":{\"sequential\":[[0.0,\"#0d0887\"],[0.1111111111111111,\"#46039f\"],[0.2222222222222222,\"#7201a8\"],[0.3333333333333333,\"#9c179e\"],[0.4444444444444444,\"#bd3786\"],[0.5555555555555556,\"#d8576b\"],[0.6666666666666666,\"#ed7953\"],[0.7777777777777778,\"#fb9f3a\"],[0.8888888888888888,\"#fdca26\"],[1.0,\"#f0f921\"]],\"sequentialminus\":[[0.0,\"#0d0887\"],[0.1111111111111111,\"#46039f\"],[0.2222222222222222,\"#7201a8\"],[0.3333333333333333,\"#9c179e\"],[0.4444444444444444,\"#bd3786\"],[0.5555555555555556,\"#d8576b\"],[0.6666666666666666,\"#ed7953\"],[0.7777777777777778,\"#fb9f3a\"],[0.8888888888888888,\"#fdca26\"],[1.0,\"#f0f921\"]],\"diverging\":[[0,\"#8e0152\"],[0.1,\"#c51b7d\"],[0.2,\"#de77ae\"],[0.3,\"#f1b6da\"],[0.4,\"#fde0ef\"],[0.5,\"#f7f7f7\"],[0.6,\"#e6f5d0\"],[0.7,\"#b8e186\"],[0.8,\"#7fbc41\"],[0.9,\"#4d9221\"],[1,\"#276419\"]]},\"xaxis\":{\"gridcolor\":\"white\",\"linecolor\":\"white\",\"ticks\":\"\",\"title\":{\"standoff\":15},\"zerolinecolor\":\"white\",\"automargin\":true,\"zerolinewidth\":2},\"yaxis\":{\"gridcolor\":\"white\",\"linecolor\":\"white\",\"ticks\":\"\",\"title\":{\"standoff\":15},\"zerolinecolor\":\"white\",\"automargin\":true,\"zerolinewidth\":2},\"scene\":{\"xaxis\":{\"backgroundcolor\":\"#E5ECF6\",\"gridcolor\":\"white\",\"linecolor\":\"white\",\"showbackground\":true,\"ticks\":\"\",\"zerolinecolor\":\"white\",\"gridwidth\":2},\"yaxis\":{\"backgroundcolor\":\"#E5ECF6\",\"gridcolor\":\"white\",\"linecolor\":\"white\",\"showbackground\":true,\"ticks\":\"\",\"zerolinecolor\":\"white\",\"gridwidth\":2},\"zaxis\":{\"backgroundcolor\":\"#E5ECF6\",\"gridcolor\":\"white\",\"linecolor\":\"white\",\"showbackground\":true,\"ticks\":\"\",\"zerolinecolor\":\"white\",\"gridwidth\":2}},\"shapedefaults\":{\"line\":{\"color\":\"#2a3f5f\"}},\"annotationdefaults\":{\"arrowcolor\":\"#2a3f5f\",\"arrowhead\":0,\"arrowwidth\":1},\"geo\":{\"bgcolor\":\"white\",\"landcolor\":\"#E5ECF6\",\"subunitcolor\":\"white\",\"showland\":true,\"showlakes\":true,\"lakecolor\":\"white\"},\"title\":{\"x\":0.05},\"mapbox\":{\"style\":\"light\"}}},\"xaxis\":{\"anchor\":\"y\",\"domain\":[0.0,1.0],\"title\":{\"text\":\"Brand\"},\"categoryorder\":\"array\",\"categoryarray\":[\"Tesla\",\"Volkswagen\",\"Polestar\",\"BMW\",\"Honda\",\"Lucid\",\"Peugeot\",\"Audi\",\"Mercedes\",\"Nissan\",\"Hyundai\",\"Porsche\",\"MG\",\"Mini\",\"Opel\",\"Skoda\",\"Volvo\",\"Kia\",\"Renault\",\"Mazda\",\"Lexus\",\"CUPRA\",\"SEAT\",\"Lightyear\",\"Aiways\",\"DS\",\"Citroen\",\"Jaguar\",\"Ford\",\"Byton\",\"Sono\",\"Smart\",\"Fiat\"]},\"yaxis\":{\"anchor\":\"x\",\"domain\":[0.0,1.0],\"title\":{\"text\":\"TopSpeed_KmH\"}},\"legend\":{\"title\":{\"text\":\"Brand\"},\"tracegroupgap\":0},\"title\":{\"text\":\"Top Speed\"},\"barmode\":\"relative\"},                        {\"responsive\": true}                    ).then(function(){\n",
       "                            \n",
       "var gd = document.getElementById('17fdbe6b-059f-4264-aa54-60464ee34f89');\n",
       "var x = new MutationObserver(function (mutations, observer) {{\n",
       "        var display = window.getComputedStyle(gd).display;\n",
       "        if (!display || display === 'none') {{\n",
       "            console.log([gd, 'removed!']);\n",
       "            Plotly.purge(gd);\n",
       "            observer.disconnect();\n",
       "        }}\n",
       "}});\n",
       "\n",
       "// Listen for the removal of the full notebook cells\n",
       "var notebookContainer = gd.closest('#notebook-container');\n",
       "if (notebookContainer) {{\n",
       "    x.observe(notebookContainer, {childList: true});\n",
       "}}\n",
       "\n",
       "// Listen for the clearing of the current output cell\n",
       "var outputEl = gd.closest('.output');\n",
       "if (outputEl) {{\n",
       "    x.observe(outputEl, {childList: true});\n",
       "}}\n",
       "\n",
       "                        })                };                });            </script>        </div>"
      ]
     },
     "metadata": {},
     "output_type": "display_data"
    }
   ],
   "source": [
    "\n",
    "# Brand has top speed\n",
    "\n",
    "fig = px.bar(dt , x = 'Brand' , y = 'TopSpeed_KmH' , color = 'Brand' , title = 'Top Speed')\n",
    "fig.show()\n",
    "     "
   ]
  },
  {
   "cell_type": "code",
   "execution_count": null,
   "id": "2bc19ac2",
   "metadata": {},
   "outputs": [],
   "source": [
    "# Brand with fast charge\n",
    "\n",
    "fig = px.bar(dt , x = 'Brand' , y = 'FastCharge_KmH' , color = 'Brand' , title = 'Fast Charge')\n",
    "fig.show()"
   ]
  },
  {
   "cell_type": "code",
   "execution_count": null,
   "id": "c60d98ee",
   "metadata": {},
   "outputs": [],
   "source": [
    "# brands with rapid charge\n",
    "fig = px.bar(dt , x = 'Brand' , y = 'RapidCharge' , color = 'Brand' , title = 'Cars having Rapid Charging')\n",
    "fig.show()"
   ]
  },
  {
   "cell_type": "code",
   "execution_count": null,
   "id": "8758ff37",
   "metadata": {},
   "outputs": [],
   "source": [
    "# brands with the fastest acceleration\n",
    "fig = px.bar(dt , x = 'Brand' , y = 'AccelSec' , color = 'Brand',  title = 'Fastest Acceleration')\n",
    "fig.show()"
   ]
  },
  {
   "cell_type": "code",
   "execution_count": null,
   "id": "288e62e0",
   "metadata": {},
   "outputs": [],
   "source": [
    "dt.drop('PriceEuro' , axis = 1 , inplace = True)"
   ]
  },
  {
   "cell_type": "code",
   "execution_count": null,
   "id": "653d6f27",
   "metadata": {},
   "outputs": [],
   "source": [
    "# Pairplot of all the features based on price of the car\n",
    "\n",
    "sn.pairplot(dt , hue = 'inr(10e3)')"
   ]
  },
  {
   "cell_type": "code",
   "execution_count": null,
   "id": "3db9927b",
   "metadata": {},
   "outputs": [],
   "source": [
    "dt['inr(10e3)'].plot(figsize = (12,8),title='Car Price',xlabel = 'No. of Samples',ylabel = 'Car Price',color = 'red')"
   ]
  },
  {
   "cell_type": "code",
   "execution_count": null,
   "id": "3a63ff79",
   "metadata": {},
   "outputs": [],
   "source": [
    "# plotting heatmap to show correlation among the features\n",
    "\n",
    "sn.heatmap(dt.corr() , annot = True)"
   ]
  },
  {
   "cell_type": "code",
   "execution_count": null,
   "id": "c0f0382f",
   "metadata": {},
   "outputs": [],
   "source": [
    "fig = px.pie(dt,names = 'Brand',values = 'inr(10e3)')\n",
    "pio.show(fig)"
   ]
  },
  {
   "cell_type": "code",
   "execution_count": null,
   "id": "95a99d76",
   "metadata": {},
   "outputs": [],
   "source": [
    "fig = px.scatter(dt,x = 'Brand',y = 'Range_Km',size='Seats',color = 'Brand',hover_data=['RapidCharge','inr(10e3)'])\n",
    "pio.show(fig)"
   ]
  },
  {
   "cell_type": "code",
   "execution_count": null,
   "id": "3e09f132",
   "metadata": {},
   "outputs": [],
   "source": [
    "a = np.arange(0 , 102)"
   ]
  },
  {
   "cell_type": "code",
   "execution_count": null,
   "id": "b82b965f",
   "metadata": {},
   "outputs": [],
   "source": [
    "dt.shape"
   ]
  },
  {
   "cell_type": "code",
   "execution_count": null,
   "id": "a976d7c5",
   "metadata": {},
   "outputs": [],
   "source": [
    "# Making comparison from the dataset"
   ]
  },
  {
   "cell_type": "code",
   "execution_count": 57,
   "id": "e0dc33f8",
   "metadata": {},
   "outputs": [
    {
     "data": {
      "text/plain": [
       "(array([ 0,  1,  2,  3,  4,  5,  6,  7,  8,  9, 10, 11, 12, 13, 14, 15, 16,\n",
       "        17, 18, 19, 20, 21, 22, 23, 24, 25, 26, 27, 28, 29, 30, 31, 32]),\n",
       " [Text(0, 0, 'Tesla'),\n",
       "  Text(1, 0, 'Volkswagen'),\n",
       "  Text(2, 0, 'Polestar'),\n",
       "  Text(3, 0, 'BMW'),\n",
       "  Text(4, 0, 'Honda'),\n",
       "  Text(5, 0, 'Lucid'),\n",
       "  Text(6, 0, 'Peugeot'),\n",
       "  Text(7, 0, 'Audi'),\n",
       "  Text(8, 0, 'Mercedes'),\n",
       "  Text(9, 0, 'Nissan'),\n",
       "  Text(10, 0, 'Hyundai'),\n",
       "  Text(11, 0, 'Porsche'),\n",
       "  Text(12, 0, 'MG'),\n",
       "  Text(13, 0, 'Mini'),\n",
       "  Text(14, 0, 'Opel'),\n",
       "  Text(15, 0, 'Skoda'),\n",
       "  Text(16, 0, 'Volvo'),\n",
       "  Text(17, 0, 'Kia'),\n",
       "  Text(18, 0, 'Renault'),\n",
       "  Text(19, 0, 'Mazda'),\n",
       "  Text(20, 0, 'Lexus'),\n",
       "  Text(21, 0, 'CUPRA'),\n",
       "  Text(22, 0, 'SEAT'),\n",
       "  Text(23, 0, 'Lightyear'),\n",
       "  Text(24, 0, 'Aiways'),\n",
       "  Text(25, 0, 'DS'),\n",
       "  Text(26, 0, 'Citroen'),\n",
       "  Text(27, 0, 'Jaguar'),\n",
       "  Text(28, 0, 'Ford'),\n",
       "  Text(29, 0, 'Byton'),\n",
       "  Text(30, 0, 'Sono'),\n",
       "  Text(31, 0, 'Smart'),\n",
       "  Text(32, 0, 'Fiat')])"
      ]
     },
     "execution_count": 57,
     "metadata": {},
     "output_type": "execute_result"
    },
    {
     "data": {
      "image/png": "[encoded data removed]",
      "text/plain": [
       "<Figure size 2000x500 with 1 Axes>"
      ]
     },
     "metadata": {},
     "output_type": "display_data"
    }
   ],
   "source": [
    "# Plotting the frequencies of the brand in the dataset\n",
    "\n",
    "plt.figure(figsize = (20 , 5))\n",
    "sn.barplot(x = 'Brand',y = a,data =dt)\n",
    "plt.grid(axis = 'y')\n",
    "plt.title('Brands in the datset')\n",
    "plt.xlabel('Brand')\n",
    "plt.ylabel('Frequency')\n",
    "plt.xticks(rotation = 45)"
   ]
  },
  {
   "cell_type": "code",
   "execution_count": 58,
   "id": "719df64b",
   "metadata": {},
   "outputs": [],
   "source": [
    "# Byton , Fiat and Smart have the more frequecy and Polester being the least"
   ]
  },
  {
   "cell_type": "code",
   "execution_count": null,
   "id": "21a5a974",
   "metadata": {},
   "outputs": [],
   "source": [
    "# Plotting which car have the best efficency\n",
    "plt.figure(figsize = (20 , 5))\n",
    "sn.barplot(x = 'Brand' , y = 'Efficiency_WhKm' , data = dt)\n",
    "plt.title('Efficiency')\n",
    "plt.xlabel('Brand')\n",
    "plt.ylabel('Efficiency_WhKm')\n",
    "plt.xticks(rotation = 45)"
   ]
  },
  {
   "cell_type": "code",
   "execution_count": 60,
   "id": "65ebfa66",
   "metadata": {},
   "outputs": [],
   "source": [
    "# Efficiency is best in Byton , Jaguar and Audi and least is Lightyear"
   ]
  },
  {
   "cell_type": "code",
   "execution_count": null,
   "id": "978cc6de",
   "metadata": {},
   "outputs": [],
   "source": [
    "plt.figure(figsize = (20 , 5))\n",
    "sn.barplot(x = 'Brand' , y = 'Seats' , data = dt)\n",
    "plt.title('Seats in a Car')\n",
    "plt.xlabel('Brands')\n",
    "plt.ylabel('No. of Seats')\n",
    "plt.xticks(rotation = 45)\n",
    "plt.show()"
   ]
  },
  {
   "cell_type": "code",
   "execution_count": null,
   "id": "9b99a0bc",
   "metadata": {},
   "outputs": [],
   "source": [
    "# Majority of cars have 5 seats"
   ]
  },
  {
   "cell_type": "code",
   "execution_count": 64,
   "id": "c5336bd0",
   "metadata": {},
   "outputs": [
    {
     "data": {
      "text/plain": [
       "Text(0.5, 1.0, 'Body Style')"
      ]
     },
     "execution_count": 64,
     "metadata": {},
     "output_type": "execute_result"
    },
    {
     "data": {
      "image/png": "[encoded data removed]",
      "text/plain": [
       "<Figure size 800x1500 with 1 Axes>"
      ]
     },
     "metadata": {},
     "output_type": "display_data"
    }
   ],
   "source": [
    "dt['BodyStyle'].value_counts().plot.pie(figsize=(8,15),autopct='%.0f%%',explode=(0.1,0.1,0.1,0.1,0.1,0.1,0.1,0.1,0.1))\n",
    "plt.title('Body Style')"
   ]
  },
  {
   "cell_type": "code",
   "execution_count": 65,
   "id": "6b0d797b",
   "metadata": {},
   "outputs": [],
   "source": [
    "# SUV and Hatchback are popular among the customer"
   ]
  },
  {
   "cell_type": "code",
   "execution_count": 66,
   "id": "5bb695d1",
   "metadata": {},
   "outputs": [
    {
     "data": {
      "text/plain": [
       "Text(0.5, 1.0, 'Segment')"
      ]
     },
     "execution_count": 66,
     "metadata": {},
     "output_type": "execute_result"
    },
    {
     "data": {
      "image/png": "[encoded data removed]",
      "text/plain": [
       "<Figure size 800x1500 with 1 Axes>"
      ]
     },
     "metadata": {},
     "output_type": "display_data"
    }
   ],
   "source": [
    "dt['Segment'].value_counts().plot.pie(figsize=(8,15),autopct='%.0f%%',explode=(0.1,0.1,0.1,0.1,0.1,0.1,0.1,0.1))\n",
    "plt.title('Segment')"
   ]
  },
  {
   "cell_type": "code",
   "execution_count": 67,
   "id": "378f8bfb",
   "metadata": {},
   "outputs": [],
   "source": [
    "# Most segments are in B and C"
   ]
  },
  {
   "cell_type": "code",
   "execution_count": 68,
   "id": "1663b915",
   "metadata": {},
   "outputs": [
    {
     "data": {
      "text/plain": [
       "Text(0.5, 1.0, 'No. of Seats')"
      ]
     },
     "execution_count": 68,
     "metadata": {},
     "output_type": "execute_result"
    },
    {
     "data": {
      "image/png": "[encoded data removed]",
      "text/plain": [
       "<Figure size 800x1500 with 1 Axes>"
      ]
     },
     "metadata": {},
     "output_type": "display_data"
    }
   ],
   "source": [
    "dt['Seats'].value_counts().plot.pie(figsize = (8,15) , autopct = '%0.f%%' , explode = (0.1,0.1,0.1,0.1,0.1))\n",
    "plt.title(\"No. of Seats\")"
   ]
  },
  {
   "cell_type": "code",
   "execution_count": null,
   "id": "71a6d217",
   "metadata": {},
   "outputs": [],
   "source": [
    "# 5 seats are most prefferable"
   ]
  },
  {
   "cell_type": "code",
   "execution_count": null,
   "id": "4b656617",
   "metadata": {},
   "outputs": [],
   "source": [
    "# 1. Linear Regression\n",
    "dt['PowerTrain'].replace(to_replace = ['RWD' , 'FWD' , 'AWD'] , value = [0 , 1 , 2] , inplace = True)\n",
    "\n",
    "X = dt[['AccelSec' , 'TopSpeed_KmH' , 'Range_Km' , 'Efficiency_WhKm' , 'RapidCharge' , 'PowerTrain']]\n",
    "Y = dt['INR']"
   ]
  },
  {
   "cell_type": "code",
   "execution_count": null,
   "id": "58d1e937",
   "metadata": {},
   "outputs": [],
   "source": [
    "# Finding linear regression using ols method\n",
    "import statsmodels.api as sm\n",
    "\n",
    "X = sm.add_constant(X)\n",
    "results = sm.OLS(Y , X)\n",
    "     "
   ]
  },
  {
   "cell_type": "code",
   "execution_count": null,
   "id": "31528dc7",
   "metadata": {},
   "outputs": [],
   "source": [
    "models = results.fit()\n",
    "models.summary()"
   ]
  },
  {
   "cell_type": "code",
   "execution_count": null,
   "id": "09c80e24",
   "metadata": {},
   "outputs": [],
   "source": [
    "from sklearn.model_selection import train_test_split\n",
    "\n",
    "X_train , X_test , Y_train , Y_test = train_test_split(X , Y , test_size = 0.2 , random_state = 42)"
   ]
  },
  {
   "cell_type": "code",
   "execution_count": null,
   "id": "afeadd41",
   "metadata": {},
   "outputs": [],
   "source": [
    "from sklearn.linear_model import LinearRegression\n",
    "\n",
    "lr = LinearRegression()\n",
    "lr.fit(X_train , Y_train)\n",
    "pred = lr.predict(X_test)"
   ]
  },
  {
   "cell_type": "code",
   "execution_count": null,
   "id": "6ff288b7",
   "metadata": {},
   "outputs": [],
   "source": [
    "# R2 Score\n",
    "from sklearn.metrics import accuracy_score , r2_score\n",
    "\n",
    "r2_scoree = r2_score(Y_test , pred)\n",
    "r2_scoree *100\n"
   ]
  },
  {
   "cell_type": "code",
   "execution_count": 77,
   "id": "a0e63724",
   "metadata": {},
   "outputs": [],
   "source": [
    "# Around 53% of the dependant variable has been explained by the independant variables"
   ]
  },
  {
   "cell_type": "code",
   "execution_count": null,
   "id": "0a4bf503",
   "metadata": {},
   "outputs": [],
   "source": [
    "# 2. Logistic Regression\n",
    "\n",
    "X1 = dt[['inr(10e3)']]\n",
    "Y1 = dt[['RapidCharge']]"
   ]
  },
  {
   "cell_type": "code",
   "execution_count": null,
   "id": "943fc3c3",
   "metadata": {},
   "outputs": [],
   "source": [
    "X1_train , X1_test , Y1_train , Y1_test = train_test_split(X1 , Y1 , test_size = 0.2 , random_state = 42)"
   ]
  },
  {
   "cell_type": "code",
   "execution_count": null,
   "id": "0dbe62f0",
   "metadata": {},
   "outputs": [],
   "source": [
    "from sklearn.linear_model import LogisticRegression\n",
    "lor = LogisticRegression()\n",
    "\n",
    "lor.fit(X1_train , Y1_train)\n",
    "pred =  lor.predict(X1_test)\n",
    "pred"
   ]
  },
  {
   "cell_type": "code",
   "execution_count": null,
   "id": "3fecfcaf",
   "metadata": {},
   "outputs": [],
   "source": [
    "# CLUSTERING\n",
    "plt.subplots(figsize = (15 , 8))\n",
    "sn.stripplot(x = 'TopSpeed_KmH' , y = 'FastCharge_KmH' , data = dt , hue = 'FastCharge_KmH' ,  legend = True , jitter = True)\n",
    "plt.show()"
   ]
  },
  {
   "cell_type": "code",
   "execution_count": null,
   "id": "3222e14b",
   "metadata": {},
   "outputs": [],
   "source": [
    "plt.subplots(figsize = (15 , 8))\n",
    "sn.stripplot(x = 'TopSpeed_KmH' , y = 'Efficiency_WhKm' , data = dt , hue = 'Efficiency_WhKm')"
   ]
  },
  {
   "cell_type": "code",
   "execution_count": null,
   "id": "19669ae0",
   "metadata": {},
   "outputs": [],
   "source": [
    "# Applying PCA for dimension reduction\n",
    "\n",
    "from sklearn.decomposition import PCA\n",
    "from sklearn.preprocessing import StandardScaler\n",
    "\n",
    "x = ['AccelSec' , 'TopSpeed_KmH' , 'Range_Km' , 'Efficiency_WhKm' , 'FastCharge_KmH' , 'RapidCharge' , 'PowerTrain' , 'Seats' , 'inr(10e3)']\n",
    "\n",
    "x = dt.loc[: , x].values\n",
    "x = StandardScaler().fit_transform(x)\n"
   ]
  },
  {
   "cell_type": "code",
   "execution_count": 84,
   "id": "e4715fe9",
   "metadata": {},
   "outputs": [
    {
     "data": {
      "text/html": [
       "<div>\n",
       "<style scoped>\n",
       "    .dataframe tbody tr th:only-of-type {\n",
       "        vertical-align: middle;\n",
       "    }\n",
       "\n",
       "    .dataframe tbody tr th {\n",
       "        vertical-align: top;\n",
       "    }\n",
       "\n",
       "    .dataframe thead th {\n",
       "        text-align: right;\n",
       "    }\n",
       "</style>\n",
       "<table border=\"1\" class=\"dataframe\">\n",
       "  <thead>\n",
       "    <tr style=\"text-align: right;\">\n",
       "      <th></th>\n",
       "      <th>PC1</th>\n",
       "      <th>PC2</th>\n",
       "      <th>PC3</th>\n",
       "      <th>PC4</th>\n",
       "      <th>Pc5</th>\n",
       "      <th>PC6</th>\n",
       "      <th>PC7</th>\n",
       "      <th>PC8</th>\n",
       "      <th>PC9</th>\n",
       "    </tr>\n",
       "  </thead>\n",
       "  <tbody>\n",
       "    <tr>\n",
       "      <th>0</th>\n",
       "      <td>2.342036</td>\n",
       "      <td>0.254881</td>\n",
       "      <td>-1.297001</td>\n",
       "      <td>-0.569622</td>\n",
       "      <td>0.770965</td>\n",
       "      <td>-1.304321</td>\n",
       "      <td>0.401787</td>\n",
       "      <td>-0.762618</td>\n",
       "      <td>-0.354884</td>\n",
       "    </tr>\n",
       "    <tr>\n",
       "      <th>1</th>\n",
       "      <td>-1.914561</td>\n",
       "      <td>-0.569047</td>\n",
       "      <td>-0.709043</td>\n",
       "      <td>0.593886</td>\n",
       "      <td>0.206999</td>\n",
       "      <td>0.352992</td>\n",
       "      <td>-0.397134</td>\n",
       "      <td>0.238896</td>\n",
       "      <td>-0.325262</td>\n",
       "    </tr>\n",
       "    <tr>\n",
       "      <th>2</th>\n",
       "      <td>1.515695</td>\n",
       "      <td>0.024369</td>\n",
       "      <td>-0.382073</td>\n",
       "      <td>-0.679665</td>\n",
       "      <td>0.107532</td>\n",
       "      <td>-0.729073</td>\n",
       "      <td>0.266925</td>\n",
       "      <td>0.042262</td>\n",
       "      <td>-0.087392</td>\n",
       "    </tr>\n",
       "    <tr>\n",
       "      <th>3</th>\n",
       "      <td>0.252431</td>\n",
       "      <td>-0.104398</td>\n",
       "      <td>-0.257001</td>\n",
       "      <td>1.601049</td>\n",
       "      <td>-0.142045</td>\n",
       "      <td>0.190743</td>\n",
       "      <td>-0.412853</td>\n",
       "      <td>-0.301661</td>\n",
       "      <td>0.185571</td>\n",
       "    </tr>\n",
       "    <tr>\n",
       "      <th>4</th>\n",
       "      <td>-2.561396</td>\n",
       "      <td>0.254023</td>\n",
       "      <td>-0.791450</td>\n",
       "      <td>0.322643</td>\n",
       "      <td>-0.893104</td>\n",
       "      <td>0.348270</td>\n",
       "      <td>-0.495068</td>\n",
       "      <td>0.109750</td>\n",
       "      <td>-0.165978</td>\n",
       "    </tr>\n",
       "    <tr>\n",
       "      <th>...</th>\n",
       "      <td>...</td>\n",
       "      <td>...</td>\n",
       "      <td>...</td>\n",
       "      <td>...</td>\n",
       "      <td>...</td>\n",
       "      <td>...</td>\n",
       "      <td>...</td>\n",
       "      <td>...</td>\n",
       "      <td>...</td>\n",
       "    </tr>\n",
       "    <tr>\n",
       "      <th>97</th>\n",
       "      <td>-0.305650</td>\n",
       "      <td>-0.460376</td>\n",
       "      <td>-0.075838</td>\n",
       "      <td>0.164252</td>\n",
       "      <td>-0.163668</td>\n",
       "      <td>-0.041783</td>\n",
       "      <td>0.151686</td>\n",
       "      <td>-0.126566</td>\n",
       "      <td>0.132994</td>\n",
       "    </tr>\n",
       "    <tr>\n",
       "      <th>98</th>\n",
       "      <td>2.231842</td>\n",
       "      <td>0.177451</td>\n",
       "      <td>1.792758</td>\n",
       "      <td>0.158852</td>\n",
       "      <td>-1.120332</td>\n",
       "      <td>0.077190</td>\n",
       "      <td>-0.342025</td>\n",
       "      <td>-0.091941</td>\n",
       "      <td>0.101495</td>\n",
       "    </tr>\n",
       "    <tr>\n",
       "      <th>99</th>\n",
       "      <td>0.739027</td>\n",
       "      <td>-0.181728</td>\n",
       "      <td>0.277008</td>\n",
       "      <td>-0.811593</td>\n",
       "      <td>-0.287049</td>\n",
       "      <td>-0.448344</td>\n",
       "      <td>0.056445</td>\n",
       "      <td>0.286306</td>\n",
       "      <td>-0.265459</td>\n",
       "    </tr>\n",
       "    <tr>\n",
       "      <th>100</th>\n",
       "      <td>1.476350</td>\n",
       "      <td>-0.129236</td>\n",
       "      <td>1.151317</td>\n",
       "      <td>-0.179274</td>\n",
       "      <td>-0.719638</td>\n",
       "      <td>-0.118880</td>\n",
       "      <td>0.269224</td>\n",
       "      <td>0.310137</td>\n",
       "      <td>-0.101881</td>\n",
       "    </tr>\n",
       "    <tr>\n",
       "      <th>101</th>\n",
       "      <td>1.212530</td>\n",
       "      <td>-0.258307</td>\n",
       "      <td>1.390068</td>\n",
       "      <td>-0.094184</td>\n",
       "      <td>-0.482151</td>\n",
       "      <td>0.262949</td>\n",
       "      <td>0.589068</td>\n",
       "      <td>-0.206575</td>\n",
       "      <td>-0.367528</td>\n",
       "    </tr>\n",
       "  </tbody>\n",
       "</table>\n",
       "<p>102 rows × 9 columns</p>\n",
       "</div>"
      ],
      "text/plain": [
       "          PC1       PC2       PC3       PC4       Pc5       PC6       PC7  \\\n",
       "0    2.342036  0.254881 -1.297001 -0.569622  0.770965 -1.304321  0.401787   \n",
       "1   -1.914561 -0.569047 -0.709043  0.593886  0.206999  0.352992 -0.397134   \n",
       "2    1.515695  0.024369 -0.382073 -0.679665  0.107532 -0.729073  0.266925   \n",
       "3    0.252431 -0.104398 -0.257001  1.601049 -0.142045  0.190743 -0.412853   \n",
       "4   -2.561396  0.254023 -0.791450  0.322643 -0.893104  0.348270 -0.495068   \n",
       "..        ...       ...       ...       ...       ...       ...       ...   \n",
       "97  -0.305650 -0.460376 -0.075838  0.164252 -0.163668 -0.041783  0.151686   \n",
       "98   2.231842  0.177451  1.792758  0.158852 -1.120332  0.077190 -0.342025   \n",
       "99   0.739027 -0.181728  0.277008 -0.811593 -0.287049 -0.448344  0.056445   \n",
       "100  1.476350 -0.129236  1.151317 -0.179274 -0.719638 -0.118880  0.269224   \n",
       "101  1.212530 -0.258307  1.390068 -0.094184 -0.482151  0.262949  0.589068   \n",
       "\n",
       "          PC8       PC9  \n",
       "0   -0.762618 -0.354884  \n",
       "1    0.238896 -0.325262  \n",
       "2    0.042262 -0.087392  \n",
       "3   -0.301661  0.185571  \n",
       "4    0.109750 -0.165978  \n",
       "..        ...       ...  \n",
       "97  -0.126566  0.132994  \n",
       "98  -0.091941  0.101495  \n",
       "99   0.286306 -0.265459  \n",
       "100  0.310137 -0.101881  \n",
       "101 -0.206575 -0.367528  \n",
       "\n",
       "[102 rows x 9 columns]"
      ]
     },
     "execution_count": 84,
     "metadata": {},
     "output_type": "execute_result"
    }
   ],
   "source": [
    "pca = PCA(n_components = 9)\n",
    "\n",
    "s = pca.fit_transform(x)\n",
    "\n",
    "dt1 = pd.DataFrame(s, columns=['PC1', 'PC2','PC3','PC4','Pc5','PC6', 'PC7', 'PC8','PC9'])\n",
    "dt1"
   ]
  },
  {
   "cell_type": "code",
   "execution_count": null,
   "id": "bc25c73b",
   "metadata": {},
   "outputs": [],
   "source": [
    "dt1.head()"
   ]
  },
  {
   "cell_type": "code",
   "execution_count": null,
   "id": "76510cff",
   "metadata": {},
   "outputs": [],
   "source": [
    "# Finding the correlation coefficient between the original variable and the components\n",
    "\n",
    "loadings = pca.components_\n",
    "features = pca.n_features_\n",
    "pc = ['PC' + str(i) for i in list(range(1 , features + 1))]\n",
    "loadings_dt = pd.DataFrame.from_dict(dict(zip(pc , loadings)))\n",
    "loadings_dt['Variable'] = dt1.columns.values\n",
    "loadings_dt = loadings_dt.set_index('Variable')\n",
    "loadings_dt"
   ]
  },
  {
   "cell_type": "code",
   "execution_count": 88,
   "id": "ec49abec",
   "metadata": {},
   "outputs": [
    {
     "data": {
      "image/png": "[encoded data removed]",
      "text/plain": [
       "<Figure size 2000x1500 with 2 Axes>"
      ]
     },
     "metadata": {},
     "output_type": "display_data"
    }
   ],
   "source": [
    "# Correlation matrix through heatmap\n",
    "plt.rcParams['figure.figsize'] = (20 , 15)\n",
    "sn.heatmap(loadings_dt , annot = True , cmap = 'Spectral')\n",
    "plt.show()"
   ]
  },
  {
   "cell_type": "code",
   "execution_count": 89,
   "id": "0f2034f5",
   "metadata": {},
   "outputs": [
    {
     "data": {
      "image/png": "[encoded data removed]",
      "text/plain": [
       "<Figure size 1300x900 with 1 Axes>"
      ]
     },
     "metadata": {},
     "output_type": "display_data"
    }
   ],
   "source": [
    "from scipy.cluster.hierarchy import linkage , dendrogram\n",
    "\n",
    "linkage = linkage(dt1 , 'complete')\n",
    "plt.figure(figsize = (13 , 9))\n",
    "dendrogram(linkage , orientation = 'top')\n",
    "plt.show()"
   ]
  },
  {
   "cell_type": "code",
   "execution_count": 90,
   "id": "057b673c",
   "metadata": {},
   "outputs": [
    {
     "data": {
      "image/png": "[encoded data removed]",
      "text/plain": [
       "<Figure size 2000x1500 with 1 Axes>"
      ]
     },
     "metadata": {},
     "output_type": "display_data"
    }
   ],
   "source": [
    "PC_values = np.arange(pca.n_components_) + 1\n",
    "plt.plot(PC_values , pca.explained_variance_ratio_ , 'o-' , linewidth = 2 , color='blue')\n",
    "plt.title('Scree Plot')\n",
    "plt.xlabel('Principal Component')\n",
    "plt.ylabel('Variance Explained')\n",
    "plt.show()"
   ]
  },
  {
   "cell_type": "code",
   "execution_count": 91,
   "id": "488e4911",
   "metadata": {},
   "outputs": [
    {
     "name": "stderr",
     "output_type": "stream",
     "text": [
      "C:\\ProgramData\\anaconda3\\lib\\site-packages\\sklearn\\cluster\\_kmeans.py:870: FutureWarning:\n",
      "\n",
      "The default value of `n_init` will change from 10 to 'auto' in 1.4. Set the value of `n_init` explicitly to suppress the warning\n",
      "\n",
      "C:\\ProgramData\\anaconda3\\lib\\site-packages\\sklearn\\cluster\\_kmeans.py:1382: UserWarning:\n",
      "\n",
      "KMeans is known to have a memory leak on Windows with MKL, when there are less chunks than available threads. You can avoid it by setting the environment variable OMP_NUM_THREADS=1.\n",
      "\n"
     ]
    }
   ],
   "source": [
    "\n",
    "from sklearn.cluster import KMeans\n",
    "\n",
    "kmeans = KMeans(n_clusters = 4 , random_state = 1234)\n",
    "\n",
    "kmeans.fit(s)\n",
    "\n",
    "labels = kmeans.labels_\n",
    "\n",
    "centroid = kmeans.cluster_centers_"
   ]
  },
  {
   "cell_type": "code",
   "execution_count": 92,
   "id": "007f2990",
   "metadata": {},
   "outputs": [
    {
     "name": "stdout",
     "output_type": "stream",
     "text": [
      "labels\n",
      "[3 1 0 1 1 3 1 1 1 0 0 1 1 1 1 1 3 1 1 1 1 0 1 3 3 1 1 0 1 1 0 1 1 0 1 1 1\n",
      " 1 1 0 3 1 0 1 1 1 1 3 3 1 0 3 1 1 0 1 1 2 1 3 1 0 1 0 1 3 1 0 2 0 1 0 3 0\n",
      " 1 1 0 2 0 3 1 0 2 1 0 1 0 0 0 1 0 2 0 1 1 1 1 1 0 0 0 0]\n",
      "\n",
      "centers of cluster\n",
      "[[ 1.53857250e+00 -4.87147645e-01  8.38904255e-01 -1.49374283e-01\n",
      "  -1.19973613e-01 -2.01792533e-01  1.54651343e-01  4.26746932e-02\n",
      "   3.68164416e-02]\n",
      " [-1.17713636e+00 -3.61061710e-01 -4.97293199e-01  1.52024268e-01\n",
      "  -9.90815172e-02  1.23366178e-01 -4.25958898e-02  1.53024383e-02\n",
      "  -2.91647221e-02]\n",
      " [-4.96071318e+00  3.00886242e+00  1.84767463e+00  2.33687384e-01\n",
      "   1.15965673e+00 -5.33637458e-01  6.41036687e-02  5.58254396e-02\n",
      "   9.24342788e-02]\n",
      " [ 3.24705804e+00  1.46672689e+00 -5.80897543e-01 -3.76655298e-01\n",
      "   2.42409744e-01  1.58476129e-01 -2.04606200e-01 -1.83515359e-01\n",
      "   6.33103758e-04]]\n"
     ]
    }
   ],
   "source": [
    "print('labels')\n",
    "print(labels)\n",
    "print()\n",
    "print('centers of cluster')\n",
    "print(centroid)\n",
    "     "
   ]
  },
  {
   "cell_type": "code",
   "execution_count": 93,
   "id": "28fa31eb",
   "metadata": {},
   "outputs": [
    {
     "data": {
      "text/plain": [
       "Counter({3: 13, 1: 54, 0: 30, 2: 5})"
      ]
     },
     "execution_count": 93,
     "metadata": {},
     "output_type": "execute_result"
    }
   ],
   "source": [
    "from collections import Counter\n",
    "\n",
    "Counter(kmeans.labels_) ## to see the cluster size"
   ]
  },
  {
   "cell_type": "code",
   "execution_count": 94,
   "id": "87c07af0",
   "metadata": {},
   "outputs": [
    {
     "data": {
      "image/png": "[encoded data removed]",
      "text/plain": [
       "<Figure size 2000x1500 with 1 Axes>"
      ]
     },
     "metadata": {},
     "output_type": "display_data"
    }
   ],
   "source": [
    "sn.scatterplot(data = dt1, x=\"PC1\", y=\"PC9\", hue=kmeans.labels_)\n",
    "plt.scatter(kmeans.cluster_centers_[:,0], kmeans.cluster_centers_[:,1],\n",
    "            marker=\"X\", c=\"r\", s=80, label=\"centroids\")\n",
    "plt.legend()\n",
    "plt.show()"
   ]
  },
  {
   "cell_type": "code",
   "execution_count": 95,
   "id": "fcaf2f94",
   "metadata": {},
   "outputs": [],
   "source": [
    "# Applying LINEAR REGRESSION in the PCA data on the basis of COST\n"
   ]
  },
  {
   "cell_type": "code",
   "execution_count": 96,
   "id": "c1876838",
   "metadata": {},
   "outputs": [],
   "source": [
    "X = dt1\n",
    "Y = dt['INR']"
   ]
  },
  {
   "cell_type": "code",
   "execution_count": 97,
   "id": "41cb88ec",
   "metadata": {},
   "outputs": [],
   "source": [
    "X_train , X_test , Y_train , Y_test = train_test_split(X , Y , test_size = 0.4 , random_state = 42)\n"
   ]
  },
  {
   "cell_type": "code",
   "execution_count": 98,
   "id": "5beebfc1",
   "metadata": {},
   "outputs": [],
   "source": [
    "lr = LinearRegression()\n",
    "lr.fit(X_train , Y_train)\n",
    "pred = lr.predict(X_test)"
   ]
  },
  {
   "cell_type": "code",
   "execution_count": 99,
   "id": "c0e31838",
   "metadata": {},
   "outputs": [
    {
     "data": {
      "text/plain": [
       "array([ 6064550.5868    ,  4951903.        ,  4501730.        ,\n",
       "        9268611.897     ,  7350334.7094    ,  7201867.654     ,\n",
       "        8445245.48      ,  3316604.5602    ,  6255964.1464    ,\n",
       "        4995119.608     ,  2701038.        ,  3430768.433     ,\n",
       "        4051557.        ,  3142207.54      ,  5176989.5       ,\n",
       "        2970871.6962    , 13352221.2146    ,  6752595.        ,\n",
       "        3672961.507     ,  2971141.8       ,  5852249.        ,\n",
       "        3601384.        ,  3151211.        ,  3421314.8       ,\n",
       "        1812306.4634    ,  8647823.33      ,  3685656.3856    ,\n",
       "        5762214.4       ,  4051557.        ,  4951903.        ,\n",
       "        6359233.8326    ,  2632071.4964    ,  5582145.2       ,\n",
       "        3234132.8666    ,  3422845.3882    ,  4904634.835     ,\n",
       "        9453633.        ,  4861868.4       ,  9840961.8492    ,\n",
       "        3352618.4002    , 16276545.02260001])"
      ]
     },
     "execution_count": 99,
     "metadata": {},
     "output_type": "execute_result"
    }
   ],
   "source": [
    "\n",
    "pred"
   ]
  },
  {
   "cell_type": "code",
   "execution_count": 100,
   "id": "69c9d3fa",
   "metadata": {},
   "outputs": [
    {
     "data": {
      "text/plain": [
       "<matplotlib.collections.PathCollection at 0x1d8b6ffb640>"
      ]
     },
     "execution_count": 100,
     "metadata": {},
     "output_type": "execute_result"
    },
    {
     "data": {
      "image/png": "[encoded data removed]",
      "text/plain": [
       "<Figure size 2000x1500 with 1 Axes>"
      ]
     },
     "metadata": {},
     "output_type": "display_data"
    }
   ],
   "source": [
    "\n",
    "plt.scatter(Y_test , pred)"
   ]
  },
  {
   "cell_type": "code",
   "execution_count": 101,
   "id": "67c3cddf",
   "metadata": {},
   "outputs": [
    {
     "name": "stderr",
     "output_type": "stream",
     "text": [
      "C:\\Users\\DAIDIPYA SISODIYA\\AppData\\Local\\Temp\\ipykernel_8800\\32035590.py:1: UserWarning:\n",
      "\n",
      "\n",
      "\n",
      "`distplot` is a deprecated function and will be removed in seaborn v0.14.0.\n",
      "\n",
      "Please adapt your code to use either `displot` (a figure-level function with\n",
      "similar flexibility) or `histplot` (an axes-level function for histograms).\n",
      "\n",
      "For a guide to updating your code to use the new functions, please see\n",
      "https://gist.github.com/mwaskom/de44147ed2974457ad6372750bbe5751\n",
      "\n",
      "\n"
     ]
    },
    {
     "data": {
      "text/plain": [
       "<Axes: xlabel='INR', ylabel='Density'>"
      ]
     },
     "execution_count": 101,
     "metadata": {},
     "output_type": "execute_result"
    },
    {
     "data": {
      "image/png": "[encoded data removed]",
      "text/plain": [
       "<Figure size 2000x1500 with 1 Axes>"
      ]
     },
     "metadata": {},
     "output_type": "display_data"
    }
   ],
   "source": [
    "\n",
    "sn.distplot((Y_test-pred))"
   ]
  },
  {
   "cell_type": "code",
   "execution_count": 109,
   "id": "d75ba606",
   "metadata": {},
   "outputs": [],
   "source": [
    "from sklearn import metrics\n",
    "from sklearn.metrics import r2_score,silhouette_score,confusion_matrix,accuracy_score"
   ]
  },
  {
   "cell_type": "code",
   "execution_count": 113,
   "id": "4585bba1",
   "metadata": {},
   "outputs": [
    {
     "name": "stdout",
     "output_type": "stream",
     "text": [
      "MAE: 1.5275961742168519e-09\n",
      "MSE: 4.380441216395703e-18\n",
      "RMSE: 2.0929503616654895e-09\n"
     ]
    }
   ],
   "source": [
    "print('MAE:',metrics.mean_absolute_error(Y_test,pred))\n",
    "print('MSE:',metrics.mean_squared_error(Y_test,pred))\n",
    "print('RMSE:',np.sqrt(metrics.mean_squared_error(Y_test,pred)))"
   ]
  },
  {
   "cell_type": "code",
   "execution_count": 114,
   "id": "17f94bde",
   "metadata": {},
   "outputs": [
    {
     "data": {
      "text/plain": [
       "1.5275961742168519e-09"
      ]
     },
     "execution_count": 114,
     "metadata": {},
     "output_type": "execute_result"
    }
   ],
   "source": [
    "metrics.mean_absolute_error(Y_test,pred)"
   ]
  },
  {
   "cell_type": "code",
   "execution_count": 118,
   "id": "7e89f94c",
   "metadata": {},
   "outputs": [
    {
     "data": {
      "text/plain": [
       "4.380441216395703e-18"
      ]
     },
     "execution_count": 118,
     "metadata": {},
     "output_type": "execute_result"
    }
   ],
   "source": [
    "metrics.mean_squared_error(Y_test,pred)"
   ]
  },
  {
   "cell_type": "code",
   "execution_count": 117,
   "id": "983b6298",
   "metadata": {},
   "outputs": [
    {
     "data": {
      "text/plain": [
       "2.0929503616654895e-09"
      ]
     },
     "execution_count": 117,
     "metadata": {},
     "output_type": "execute_result"
    }
   ],
   "source": [
    "np.sqrt(metrics.mean_squared_error(Y_test,pred))"
   ]
  },
  {
   "cell_type": "code",
   "execution_count": null,
   "id": "dfcc3301",
   "metadata": {},
   "outputs": [],
   "source": []
  }
 ],
 "metadata": {
  "kernelspec": {
   "display_name": "Python 3 (ipykernel)",
   "language": "python",
   "name": "python3"
  },
  "language_info": {
   "codemirror_mode": {
    "name": "ipython",
    "version": 3
   },
   "file_extension": ".py",
   "mimetype": "text/x-python",
   "name": "python",
   "nbconvert_exporter": "python",
   "pygments_lexer": "ipython3",
   "version": "3.10.9"
  }
 },
 "nbformat": 4,
 "nbformat_minor": 5
}
